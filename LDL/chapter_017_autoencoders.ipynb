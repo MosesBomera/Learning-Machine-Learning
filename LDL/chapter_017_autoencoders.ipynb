{
  "nbformat": 4,
  "nbformat_minor": 0,
  "metadata": {
    "colab": {
      "name": "chapter_017_autoencoders.ipynb",
      "provenance": []
    },
    "kernelspec": {
      "name": "python3",
      "display_name": "Python 3"
    },
    "language_info": {
      "name": "python"
    }
  },
  "cells": [
    {
      "cell_type": "markdown",
      "metadata": {
        "id": "38eDa5zsE4pm"
      },
      "source": [
        "# AUTOENCODER FOR OUTLIER DETECTION"
      ]
    },
    {
      "cell_type": "code",
      "metadata": {
        "id": "sd3ocQQ0Ekn7"
      },
      "source": [
        "import tensorflow as tf\n",
        "from tensorflow import keras\n",
        "from tensorflow.keras.utils import to_categorical\n",
        "import numpy as np\n",
        "import matplotlib.pyplot as plt\n",
        "import logging\n",
        "tf.get_logger().setLevel(logging.ERROR)\n",
        "\n",
        "# Load traditional MNIST dataset.\n",
        "mnist = keras.datasets.mnist\n",
        "(train_images, train_labels), (test_images, test_labels) = mnist.load_data()\n",
        "\n",
        "EPOCHS = 10 \n",
        "\n",
        "# Scale the data.\n",
        "train_images = train_images / 255.0\n",
        "test_images = test_images / 255.0"
      ],
      "execution_count": 7,
      "outputs": []
    },
    {
      "cell_type": "code",
      "metadata": {
        "id": "AS8gqHttFp8-"
      },
      "source": [
        "# Create and train an autoencoder.\n",
        "model = keras.Sequential([\n",
        "      keras.layers.Flatten(input_shape=(28,28)),\n",
        "      keras.layers.Dense(64, activation='relu', kernel_initializer='glorot_normal', bias_initializer='zeros'),\n",
        "      keras.layers.Dense(784, activation='sigmoid', kernel_initializer='glorot_normal', bias_initializer='zeros'),\n",
        "      keras.layers.Reshape((28,28))\n",
        "])\n",
        "\n",
        "model.compile(loss='binary_crossentropy', optimizer='adam', metrics=['mean_absolute_error'])\n",
        "history = model.fit(train_images, train_images, validation_data=(test_images, test_images),\n",
        "                    epochs=EPOCHS, batch_size=64, verbose=2, shuffle=True)"
      ],
      "execution_count": null,
      "outputs": []
    },
    {
      "cell_type": "code",
      "metadata": {
        "colab": {
          "base_uri": "https://localhost:8080/",
          "height": 201
        },
        "id": "zg5ToTQwIPmH",
        "outputId": "96107fd5-5df6-4309-b6b4-e0b31c69c2de"
      },
      "source": [
        "# Predict on test dataset.\n",
        "predict_images = model.predict(test_images)\n",
        "# Plot one input example and resulting prediction.\n",
        "plt.subplot(1, 2, 1)\n",
        "plt.imshow(test_images[0], cmap=plt.get_cmap('gray'))\n",
        "plt.subplot(1, 2, 2)\n",
        "plt.imshow(predict_images[0], cmap=plt.get_cmap('gray'))\n",
        "plt.show()"
      ],
      "execution_count": 9,
      "outputs": [
        {
          "output_type": "display_data",
          "data": {
            "image/png": "[encoded data removed]",
            "text/plain": [
              "<Figure size 432x288 with 2 Axes>"
            ]
          },
          "metadata": {
            "needs_background": "light"
          }
        }
      ]
    },
    {
      "cell_type": "code",
      "metadata": {
        "colab": {
          "base_uri": "https://localhost:8080/",
          "height": 388
        },
        "id": "-vs59G1DJAsD",
        "outputId": "be69bfca-3e86-4e06-9df9-a2c16322534f"
      },
      "source": [
        "# Use the autoencoder to ascertain its results on the fashion mnist dataset.\n",
        "# Load Fashion MNIST.\n",
        "f_mnist = keras.datasets.fashion_mnist\n",
        "(f_train_images, f_train_labels), (f_test_images,\n",
        "f_test_labels) = f_mnist.load_data()\n",
        "f_train_images = f_train_images / 255.0\n",
        "f_test_images = f_test_images / 255.0\n",
        "# Predict and plot.\n",
        "f_predict_images = model.predict(f_test_images)\n",
        "plt.subplot(1, 2, 1)\n",
        "plt.imshow(f_test_images[0], cmap=plt.get_cmap('gray'))\n",
        "plt.subplot(1, 2, 2)\n",
        "plt.imshow(f_predict_images[0], cmap=plt.get_cmap('gray'))\n",
        "plt.show()"
      ],
      "execution_count": 10,
      "outputs": [
        {
          "output_type": "stream",
          "name": "stdout",
          "text": [
            "Downloading data from https://storage.googleapis.com/tensorflow/tf-keras-datasets/train-labels-idx1-ubyte.gz\n",
            "32768/29515 [=================================] - 0s 0us/step\n",
            "40960/29515 [=========================================] - 0s 0us/step\n",
            "Downloading data from https://storage.googleapis.com/tensorflow/tf-keras-datasets/train-images-idx3-ubyte.gz\n",
            "26427392/26421880 [==============================] - 0s 0us/step\n",
            "26435584/26421880 [==============================] - 0s 0us/step\n",
            "Downloading data from https://storage.googleapis.com/tensorflow/tf-keras-datasets/t10k-labels-idx1-ubyte.gz\n",
            "16384/5148 [===============================================================================================] - 0s 0us/step\n",
            "Downloading data from https://storage.googleapis.com/tensorflow/tf-keras-datasets/t10k-images-idx3-ubyte.gz\n",
            "4423680/4422102 [==============================] - 0s 0us/step\n",
            "4431872/4422102 [==============================] - 0s 0us/step\n"
          ]
        },
        {
          "output_type": "display_data",
          "data": {
            "image/png": "[encoded data removed]",
            "text/plain": [
              "<Figure size 432x288 with 2 Axes>"
            ]
          },
          "metadata": {
            "needs_background": "light"
          }
        }
      ]
    },
    {
      "cell_type": "code",
      "metadata": {
        "colab": {
          "base_uri": "https://localhost:8080/",
          "height": 295
        },
        "id": "gkxwbRBrJS2s",
        "outputId": "b0e51898-2986-4b98-bdad-6f5f986e868d"
      },
      "source": [
        "# Compute errors and plot.\n",
        "error = np.mean(np.abs(test_images - predict_images), (1, 2))\n",
        "f_error = np.mean(np.abs(f_test_images - f_predict_images), (1, 2))\n",
        "_ = plt.hist((error, f_error), bins=50, label=['mnist', 'fashion mnist'])\n",
        "plt.legend()\n",
        "plt.xlabel('mean absolute error')\n",
        "plt.ylabel('examples')\n",
        "plt.title(\"Autoencoder for outlier detection\")\n",
        "plt.show()"
      ],
      "execution_count": 11,
      "outputs": [
        {
          "output_type": "display_data",
          "data": {
            "image/png": "[encoded data removed]",
            "text/plain": [
              "<Figure size 432x288 with 1 Axes>"
            ]
          },
          "metadata": {
            "needs_background": "light"
          }
        }
      ]
    },
    {
      "cell_type": "markdown",
      "metadata": {
        "id": "y5bGdBsfLARc"
      },
      "source": [
        "Outlier threshold could be set at about 0.02"
      ]
    },
    {
      "cell_type": "code",
      "metadata": {
        "id": "ZxJzVauOKW9a"
      },
      "source": [
        ""
      ],
      "execution_count": null,
      "outputs": []
    }
  ]
}