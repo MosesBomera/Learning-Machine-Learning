{
  "nbformat": 4,
  "nbformat_minor": 0,
  "metadata": {
    "colab": {
      "name": "chapter_017_multimodal_learning.ipynb",
      "provenance": []
    },
    "kernelspec": {
      "name": "python3",
      "display_name": "Python 3"
    },
    "language_info": {
      "name": "python"
    }
  },
  "cells": [
    {
      "cell_type": "markdown",
      "metadata": {
        "id": "_nz9wcQH6eOT"
      },
      "source": [
        "# CLASSIFICATION WITH MULTIMODAL INPUT DATA"
      ]
    },
    {
      "cell_type": "code",
      "metadata": {
        "id": "kfZXbV926OHp"
      },
      "source": [
        "import tensorflow as tf\n",
        "from tensorflow import keras\n",
        "from tensorflow.keras.utils import to_categorical\n",
        "from tensorflow.keras.preprocessing.text import Tokenizer\n",
        "from tensorflow.keras.preprocessing.text import text_to_word_sequence\n",
        "from tensorflow.keras.preprocessing.sequence import pad_sequences\n",
        "from tensorflow.keras.layers import Input\n",
        "from tensorflow.keras.layers import Embedding\n",
        "from tensorflow.keras.layers import LSTM\n",
        "from tensorflow.keras.layers import Flatten\n",
        "from tensorflow.keras.layers import Concatenate\n",
        "from tensorflow.keras.layers import Dense\n",
        "from tensorflow.keras.models import Model\n",
        "import numpy as np\n",
        "import matplotlib.pyplot as plt\n",
        "import logging\n",
        "tf.get_logger().setLevel(logging.ERROR)"
      ],
      "execution_count": 1,
      "outputs": []
    },
    {
      "cell_type": "code",
      "metadata": {
        "colab": {
          "base_uri": "https://localhost:8080/"
        },
        "id": "PbkH1BFr6z8M",
        "outputId": "9c6e832d-9cde-49dd-de30-baa5166632c6"
      },
      "source": [
        "EPOCHS = 20\n",
        "MAX_WORDS = 8\n",
        "EMBEDDING_WIDTH = 4\n",
        "\n",
        "# Load training and test datasets.\n",
        "mnist = keras.datasets.mnist\n",
        "(train_images, train_labels), (test_images, test_labels) = mnist.load_data()\n",
        "\n",
        "# Standardize the data.\n",
        "mean = np.mean(train_images)\n",
        "stddev = np.std(train_images)\n",
        "train_images = (train_images - mean) / stddev\n",
        "test_images = (test_images - mean) / stddev"
      ],
      "execution_count": 2,
      "outputs": [
        {
          "output_type": "stream",
          "name": "stdout",
          "text": [
            "Downloading data from https://storage.googleapis.com/tensorflow/tf-keras-datasets/mnist.npz\n",
            "11493376/11490434 [==============================] - 0s 0us/step\n",
            "11501568/11490434 [==============================] - 0s 0us/step\n"
          ]
        }
      ]
    },
    {
      "cell_type": "code",
      "metadata": {
        "id": "2D5ZIifw64YE"
      },
      "source": [
        "# Function to create second modality.\n",
        "def create_text(tokenizer, labels):\n",
        "    text = []\n",
        "    for i, label in enumerate(labels):\n",
        "        if i % 2 == 0:\n",
        "            if label < 5:\n",
        "                text.append('lower half')\n",
        "            else:\n",
        "                text.append('upper half')\n",
        "        else:\n",
        "            if label % 2 == 0:\n",
        "                text.append('even number')\n",
        "            else:\n",
        "                text.append('odd number')\n",
        "    text = tokenizer.texts_to_sequences(text)\n",
        "    text = pad_sequences(text)\n",
        "    return text\n",
        "\n",
        "# Create second modality for training and test set.\n",
        "vocabulary = ['lower', 'upper', 'half', 'even', 'odd', 'number']\n",
        "tokenizer = Tokenizer(num_words=MAX_WORDS)\n",
        "tokenizer.fit_on_texts(vocabulary)\n",
        "train_text = create_text(tokenizer, train_labels)\n",
        "test_text = create_text(tokenizer, test_labels)"
      ],
      "execution_count": 3,
      "outputs": []
    },
    {
      "cell_type": "code",
      "metadata": {
        "id": "DlLlUWpd7H2X"
      },
      "source": [
        "# Create model with functional API.\n",
        "image_input = Input(shape=(28, 28))\n",
        "text_input = Input(shape=(2, ))\n",
        "\n",
        "# Declare layers.\n",
        "embedding_layer = Embedding(output_dim=EMBEDDING_WIDTH,\n",
        "                            input_dim = MAX_WORDS)\n",
        "lstm_layer = LSTM(8)\n",
        "flatten_layer = Flatten()\n",
        "concat_layer = Concatenate()\n",
        "dense_layer = Dense(25,activation='relu')\n",
        "output_layer = Dense(10, activation='softmax')\n",
        "\n",
        "# Connect layers.\n",
        "embedding_output = embedding_layer(text_input)\n",
        "lstm_output = lstm_layer(embedding_output)\n",
        "flatten_output = flatten_layer(image_input)\n",
        "concat_output = concat_layer([lstm_output, flatten_output])\n",
        "dense_output = dense_layer(concat_output)\n",
        "outputs = output_layer(dense_output)\n",
        "\n",
        "# Build and train model.\n",
        "model = Model([image_input, text_input], outputs)\n",
        "model.compile(loss='sparse_categorical_crossentropy',\n",
        "              optimizer='adam', metrics =['accuracy'])\n",
        "model.summary()\n",
        "history = model.fit([train_images, train_text], train_labels,\n",
        "                    validation_data=([test_images, test_text],\n",
        "                                     test_labels), epochs=EPOCHS,\n",
        "                    batch_size=64, verbose=2, shuffle=True)"
      ],
      "execution_count": null,
      "outputs": []
    },
    {
      "cell_type": "code",
      "metadata": {
        "colab": {
          "base_uri": "https://localhost:8080/",
          "height": 539
        },
        "id": "jrFKpDCv7jOd",
        "outputId": "3dbdab5b-7044-4fb8-d508-80ce8db2a3e5"
      },
      "source": [
        "# Print input modalities and output for one test example.\n",
        "print(test_labels[0])\n",
        "print(tokenizer.sequences_to_texts([test_text[0]]))\n",
        "plt.figure(figsize=(1, 1))\n",
        "plt.imshow(test_images[0], cmap=plt.get_cmap('gray'))\n",
        "plt.show()\n",
        "\n",
        "# Predict test example.\n",
        "y = model.predict([test_images[0:1], np.array(\n",
        "    tokenizer.texts_to_sequences(['upper half']))])[0] #7\n",
        "print('Predictions with correct input:')\n",
        "for i in range(len(y)):\n",
        "    index = y.argmax()\n",
        "    print('Digit: %d,' %index, 'probability: %5.2e' %y[index])\n",
        "    y[index] = 0\n",
        "\n",
        "# Predict same test example but with modified textual description.\n",
        "print('\\nPredictions with incorrect input:')\n",
        "y = model.predict([test_images[0:1], np.array(\n",
        "    tokenizer.texts_to_sequences(['lower half']))])[0] #7\n",
        "for i in range(len(y)):\n",
        "    index = y.argmax()\n",
        "    print('Digit: %d,' %index, 'probability: %5.2e' %y[index])\n",
        "    y[index] = 0"
      ],
      "execution_count": 5,
      "outputs": [
        {
          "output_type": "stream",
          "name": "stdout",
          "text": [
            "7\n",
            "['upper half']\n"
          ]
        },
        {
          "output_type": "display_data",
          "data": {
            "image/png": "[encoded data removed]",
            "text/plain": [
              "<Figure size 72x72 with 1 Axes>"
            ]
          },
          "metadata": {
            "needs_background": "light"
          }
        },
        {
          "output_type": "stream",
          "name": "stdout",
          "text": [
            "Predictions with correct input:\n",
            "Digit: 7, probability: 1.00e+00\n",
            "Digit: 9, probability: 2.76e-08\n",
            "Digit: 2, probability: 4.89e-10\n",
            "Digit: 8, probability: 2.71e-11\n",
            "Digit: 5, probability: 8.72e-12\n",
            "Digit: 3, probability: 3.60e-12\n",
            "Digit: 6, probability: 5.55e-13\n",
            "Digit: 0, probability: 1.46e-14\n",
            "Digit: 4, probability: 1.68e-16\n",
            "Digit: 1, probability: 5.59e-18\n",
            "\n",
            "Predictions with incorrect input:\n",
            "Digit: 7, probability: 9.67e-01\n",
            "Digit: 2, probability: 3.21e-02\n",
            "Digit: 3, probability: 2.79e-04\n",
            "Digit: 0, probability: 1.51e-04\n",
            "Digit: 4, probability: 4.60e-06\n",
            "Digit: 1, probability: 1.01e-08\n",
            "Digit: 9, probability: 2.65e-09\n",
            "Digit: 8, probability: 9.85e-11\n",
            "Digit: 5, probability: 7.87e-11\n",
            "Digit: 6, probability: 2.45e-12\n"
          ]
        }
      ]
    },
    {
      "cell_type": "code",
      "metadata": {
        "id": "Id8EkmNK8ADK"
      },
      "source": [
        ""
      ],
      "execution_count": null,
      "outputs": []
    }
  ]
}