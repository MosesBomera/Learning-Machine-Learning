{
 "cells": [
  {
   "cell_type": "markdown",
   "metadata": {},
   "source": [
    "### CHAPTER FOUR"
   ]
  },
  {
   "cell_type": "code",
   "execution_count": 15,
   "metadata": {},
   "outputs": [],
   "source": [
    "import numpy as np\n",
    "import matplotlib.pyplot as plt\n",
    "import idx2numpy\n",
    "\n",
    "# File directories\n",
    "# from pathlib import Path\n",
    "# import os\n",
    "\n",
    "np.random.seed(7) # To make repeatable\n",
    "LEARNING_RATE = 0.01\n",
    "EPOCHS = 20\n",
    "# Data dir\n",
    "# data_dir = Path.cwd() / \"data\"\n",
    "TRAIN_IMAGE_FILENAME = 'data/mnist/train-images.idx3-ubyte'\n",
    "TRAIN_LABEL_FILENAME = 'data/mnist/train-labels.idx1-ubyte'\n",
    "TEST_IMAGE_FILENAME = 'data/mnist/t10k-images.idx3-ubyte'\n",
    "TEST_LABEL_FILENAME = 'data/mnist/t10k-labels.idx1-ubyte'"
   ]
  },
  {
   "cell_type": "code",
   "execution_count": 16,
   "metadata": {},
   "outputs": [],
   "source": [
    "# Read files.\n",
    "train_images = idx2numpy.convert_from_file(\n",
    "    TRAIN_IMAGE_FILENAME)\n",
    "train_labels = idx2numpy.convert_from_file(\n",
    "    TRAIN_LABEL_FILENAME)\n",
    "test_images = idx2numpy.convert_from_file(TEST_IMAGE_FILENAME)\n",
    "test_labels = idx2numpy.convert_from_file(TEST_LABEL_FILENAME)"
   ]
  },
  {
   "cell_type": "code",
   "execution_count": 17,
   "metadata": {},
   "outputs": [
    {
     "name": "stdout",
     "output_type": "stream",
     "text": [
      "dimensions of train_images:  (60000, 28, 28)\n",
      "dimensions of train_labels:  (60000,)\n",
      "dimensions of test_images:  (10000, 28, 28)\n",
      "dimensions of test_images:  (10000,)\n"
     ]
    }
   ],
   "source": [
    "# Print dimensions.\n",
    "print('dimensions of train_images: ', train_images.shape)\n",
    "print('dimensions of train_labels: ', train_labels.shape)\n",
    "print('dimensions of test_images: ', test_images.shape)\n",
    "print('dimensions of test_images: ', test_labels.shape)"
   ]
  },
  {
   "cell_type": "code",
   "execution_count": 18,
   "metadata": {},
   "outputs": [
    {
     "data": {
      "text/plain": [
       "(28, 28)"
      ]
     },
     "execution_count": 18,
     "metadata": {},
     "output_type": "execute_result"
    }
   ],
   "source": [
    "train_images[0].shape"
   ]
  },
  {
   "cell_type": "code",
   "execution_count": 19,
   "metadata": {},
   "outputs": [],
   "source": [
    "# print?"
   ]
  },
  {
   "cell_type": "code",
   "execution_count": 20,
   "metadata": {},
   "outputs": [
    {
     "name": "stdout",
     "output_type": "stream",
     "text": [
      "label for first training example:  0\n",
      "---beginning of pattern for first training example---\n",
      "                                                        \n",
      "                                                        \n",
      "                                                        \n",
      "                                                        \n",
      "                              * * * * *                 \n",
      "                            * * * * * *                 \n",
      "                          * * * * * * * * *             \n",
      "                      * * * * * * * * * * *             \n",
      "                      * * * * * * * * * * *             \n",
      "                    * * * * * * * * * * * *             \n",
      "                  * * * * * * * * *     * * *           \n",
      "                * * * * * *             * * *           \n",
      "              * * * * * * *             * * *           \n",
      "              * * * *                   * * *           \n",
      "              * * *                     * * *           \n",
      "            * * * *                     * * *           \n",
      "            * * * *                 * * * * *           \n",
      "            * * *                 * * * * *             \n",
      "            * * *               * * * *                 \n",
      "            * * *             * * * *                   \n",
      "            * * * * * * * * * * * * *                   \n",
      "            * * * * * * * * * * *                       \n",
      "            * * * * * * * * *                           \n",
      "              * * * * * * *                             \n",
      "                                                        \n",
      "                                                        \n",
      "                                                        \n",
      "                                                        \n",
      "---end of pattern for first training example---\n"
     ]
    }
   ],
   "source": [
    "# Print one training example.\n",
    "print('label for first training example: ', train_labels[1])\n",
    "print('---beginning of pattern for first training example---')\n",
    "for line in train_images[1]:\n",
    "    for num in line:\n",
    "        if num > 0:\n",
    "            print('*', end=' ')\n",
    "        else:\n",
    "            print(' ', end = ' ')\n",
    "    print('')\n",
    "print('---end of pattern for first training example---')"
   ]
  },
  {
   "cell_type": "code",
   "execution_count": 21,
   "metadata": {},
   "outputs": [],
   "source": [
    "# Function to read dataset.\n",
    "def read_mnist():\n",
    "    train_images = idx2numpy.convert_from_file(\n",
    "        TRAIN_IMAGE_FILENAME)\n",
    "    train_labels = idx2numpy.convert_from_file(\n",
    "        TRAIN_LABEL_FILENAME)\n",
    "    test_images = idx2numpy.convert_from_file(\n",
    "        TEST_IMAGE_FILENAME)\n",
    "    test_labels = idx2numpy.convert_from_file(\n",
    "        TEST_LABEL_FILENAME)\n",
    "\n",
    "    # Reformat and standardize.\n",
    "    x_train = train_images.reshape(60000, 784)\n",
    "    mean = np.mean(x_train)\n",
    "    stddev = np.std(x_train)\n",
    "    x_train = (x_train - mean) / stddev\n",
    "    x_test = test_images.reshape(10000, 784)\n",
    "    x_test = (x_test - mean) / stddev\n",
    "\n",
    "    # One-hot encoded output.\n",
    "    y_train = np.zeros((60000, 10))\n",
    "    y_test = np.zeros((10000, 10))\n",
    "    for i, y in enumerate(train_labels):\n",
    "        y_train[i][y] = 1\n",
    "    for i, y in enumerate(test_labels):\n",
    "        y_test[i][y] = 1\n",
    "    return x_train, y_train, x_test, y_test"
   ]
  },
  {
   "cell_type": "code",
   "execution_count": 22,
   "metadata": {},
   "outputs": [],
   "source": [
    "# Read train and test examples.\n",
    "x_train, y_train, x_test, y_test = read_mnist()\n",
    "index_list = list(range(len(x_train))) # Used for random order"
   ]
  },
  {
   "cell_type": "code",
   "execution_count": 23,
   "metadata": {},
   "outputs": [],
   "source": [
    "def layer_w(neuron_count, input_count):\n",
    "    weights = np.zeros((neuron_count, input_count+1))\n",
    "    for i in range(neuron_count):\n",
    "        for j in range(1, (input_count+1)):\n",
    "            weights[i][j] = np.random.uniform(-0.1, 0.1)\n",
    "    return weights"
   ]
  },
  {
   "cell_type": "code",
   "execution_count": 33,
   "metadata": {},
   "outputs": [],
   "source": [
    "# Declare matrices and vectors representing the neurons.\n",
    "hidden_layer_w: \"The first and final hidden layer\" = layer_w(25, 784)\n",
    "hidden_layer_y: \"The 25 outputs from the first and last hidden layer\" = np.zeros(25)\n",
    "hidden_layer_error: \"The errors made at the output of the hidden layer\" = np.zeros(25)"
   ]
  },
  {
   "cell_type": "code",
   "execution_count": 25,
   "metadata": {},
   "outputs": [],
   "source": [
    "output_layer_w = layer_w(10, 25)\n",
    "output_layer_y = np.zeros(10)\n",
    "output_layer_error = np.zeros(10)"
   ]
  },
  {
   "cell_type": "code",
   "execution_count": 26,
   "metadata": {},
   "outputs": [],
   "source": [
    "chart_x = []\n",
    "chart_y_train = []\n",
    "chart_y_test = []\n",
    "def show_learning(epoch_no, train_acc, test_acc):\n",
    "    global chart_x\n",
    "    global chart_y_train\n",
    "    global chart_y_test\n",
    "    print('epoch no:', epoch_no, ', train_acc: ',\n",
    "          '%6.4f' % train_acc,\n",
    "          ', test_acc: ', '%6.4f' % test_acc)\n",
    "    chart_x.append(epoch_no + 1)\n",
    "    chart_y_train.append(1.0 - train_acc)\n",
    "    chart_y_test.append(1.0 - test_acc)"
   ]
  },
  {
   "cell_type": "code",
   "execution_count": 27,
   "metadata": {},
   "outputs": [],
   "source": [
    "def plot_learning():\n",
    "    plt.plot(chart_x, chart_y_train, 'r-',\n",
    "             label='training error')\n",
    "    plt.plot(chart_x, chart_y_test, 'b-',\n",
    "             label='test error')\n",
    "    plt.axis([0, len(chart_x), 0.0, 1.0])\n",
    "    plt.xlabel('training epochs')\n",
    "    plt.ylabel('error')\n",
    "    plt.legend()\n",
    "    plt.show()"
   ]
  },
  {
   "cell_type": "code",
   "execution_count": 31,
   "metadata": {},
   "outputs": [
    {
     "name": "stdout",
     "output_type": "stream",
     "text": [
      "0 (26,)\n"
     ]
    }
   ],
   "source": [
    "for i, w in enumerate(output_layer_w):\n",
    "    print(i, w.shape)\n",
    "    break\n"
   ]
  },
  {
   "cell_type": "code",
   "execution_count": 32,
   "metadata": {},
   "outputs": [],
   "source": [
    "def forward_pass(x):\n",
    "    global hidden_layer_y\n",
    "    global output_layer_y\n",
    "    # Activation function for hidden layer\n",
    "    for i, w in enumerate(hidden_layer_w):\n",
    "        z = np.dot(w, x)\n",
    "        hidden_layer_y[i] = np.tanh(z)\n",
    "    hidden_output_array = np.concatenate(\n",
    "        (np.array([1.0]), hidden_layer_y)) # Pad inout with 1.0 (bias term)\n",
    "    # Activation function for output layer\n",
    "    for i, w in enumerate(output_layer_w):\n",
    "        z = np.dot(w, hidden_output_array)\n",
    "        output_layer_y[i] = 1.0 / (1.0 + np.exp(-z))"
   ]
  },
  {
   "cell_type": "code",
   "execution_count": null,
   "metadata": {},
   "outputs": [],
   "source": []
  },
  {
   "cell_type": "code",
   "execution_count": 51,
   "metadata": {},
   "outputs": [],
   "source": [
    "def backward_pass(y_truth):\n",
    "    global hidden_layer_error\n",
    "    global output_layer_error\n",
    "    # Backpropagate error for each output neuron\n",
    "    # and create array of all output neuron errors.\n",
    "    for i, y in enumerate(output_layer_y):\n",
    "        error_prime = -(y_truth[i] - y) # Loss derivative\n",
    "        derivative = y * (1.0 - y) # Logistic derivative\n",
    "        output_layer_error[i] = error_prime * derivative\n",
    "    for i, y in enumerate(hidden_layer_y):\n",
    "        # Create array weights connecting the output of\n",
    "        # hidden neuron i to neurons in the output layer.\n",
    "        error_weights = []\n",
    "        for w in output_layer_w:\n",
    "            error_weights.append(w[i+1])\n",
    "        error_weight_array = np.array(error_weights)\n",
    "        # Backpropagate error for hidden neuron.\n",
    "        derivative = 1.0 - y**2 # tanh derivative\n",
    "        weighted_error = np.dot(error_weight_array,\n",
    "                                output_layer_error)\n",
    "        hidden_layer_error[i] = weighted_error * derivative"
   ]
  },
  {
   "cell_type": "code",
   "execution_count": 43,
   "metadata": {},
   "outputs": [],
   "source": [
    "def adjust_weights(x):\n",
    "    global output_layer_w\n",
    "    global hidden_layer_w\n",
    "    for i, error in enumerate(hidden_layer_error):\n",
    "        hidden_layer_w[i] -= (x * LEARNING_RATE\n",
    "                              * error) # Update all weights\n",
    "    hidden_output_array = np.concatenate(\n",
    "        (np.array([1.0]), hidden_layer_y))\n",
    "    for i, error in enumerate(output_layer_error):\n",
    "        output_layer_w[i] -= (hidden_output_array\n",
    "                              * LEARNING_RATE\n",
    "                              * error) # Update all weights"
   ]
  },
  {
   "cell_type": "code",
   "execution_count": 53,
   "metadata": {},
   "outputs": [
    {
     "name": "stdout",
     "output_type": "stream",
     "text": [
      "epoch no: 0 , train_acc:  0.8555 , test_acc:  0.9176\n",
      "epoch no: 1 , train_acc:  0.9176 , test_acc:  0.9256\n",
      "epoch no: 2 , train_acc:  0.9265 , test_acc:  0.9257\n",
      "epoch no: 3 , train_acc:  0.9317 , test_acc:  0.9310\n",
      "epoch no: 4 , train_acc:  0.9356 , test_acc:  0.9340\n",
      "epoch no: 5 , train_acc:  0.9385 , test_acc:  0.9354\n",
      "epoch no: 6 , train_acc:  0.9399 , test_acc:  0.9391\n",
      "epoch no: 7 , train_acc:  0.9423 , test_acc:  0.9354\n",
      "epoch no: 8 , train_acc:  0.9441 , test_acc:  0.9365\n",
      "epoch no: 9 , train_acc:  0.9460 , test_acc:  0.9384\n",
      "epoch no: 10 , train_acc:  0.9464 , test_acc:  0.9355\n",
      "epoch no: 11 , train_acc:  0.9474 , test_acc:  0.9312\n",
      "epoch no: 12 , train_acc:  0.9494 , test_acc:  0.9385\n",
      "epoch no: 13 , train_acc:  0.9503 , test_acc:  0.9395\n",
      "epoch no: 14 , train_acc:  0.9505 , test_acc:  0.9406\n",
      "epoch no: 15 , train_acc:  0.9519 , test_acc:  0.9405\n",
      "epoch no: 16 , train_acc:  0.9519 , test_acc:  0.9396\n",
      "epoch no: 17 , train_acc:  0.9529 , test_acc:  0.9412\n",
      "epoch no: 18 , train_acc:  0.9537 , test_acc:  0.9383\n",
      "epoch no: 19 , train_acc:  0.9550 , test_acc:  0.9398\n"
     ]
    },
    {
     "data": {
      "image/png": "[encoded data removed]",
      "text/plain": [
       "<Figure size 432x288 with 1 Axes>"
      ]
     },
     "metadata": {
      "needs_background": "light"
     },
     "output_type": "display_data"
    }
   ],
   "source": [
    "# Network training loop.\n",
    "for i in range(EPOCHS): # Train EPOCHS iterations\n",
    "    np.random.shuffle(index_list) # Randomize order\n",
    "    correct_training_results = 0\n",
    "    for j in index_list: # Train on all examples\n",
    "        x = np.concatenate((np.array([1.0]), x_train[j])) # Pad X with 1.0 for the bias term.\n",
    "        forward_pass(x)\n",
    "        if output_layer_y.argmax() == y_train[j].argmax():\n",
    "            correct_training_results += 1\n",
    "        backward_pass(y_train[j])\n",
    "        adjust_weights(x)\n",
    "\n",
    "    correct_test_results = 0\n",
    "    for j in range(len(x_test)): # Evaluate network\n",
    "        x = np.concatenate((np.array([1.0]), x_test[j]))\n",
    "        forward_pass(x)\n",
    "        if output_layer_y.argmax() == y_test[j].argmax():\n",
    "            correct_test_results += 1\n",
    "    # Show progress.\n",
    "    show_learning(i, correct_training_results/len(x_train),\n",
    "                  correct_test_results/len(x_test))\n",
    "plot_learning() # Create plot"
   ]
  },
  {
   "cell_type": "code",
   "execution_count": null,
   "metadata": {},
   "outputs": [],
   "source": []
  }
 ],
 "metadata": {
  "interpreter": {
   "hash": "b0bf3a60f070728456081e0416621110ebcfe2b6b1c96a4ddde8f44cf79d65c9"
  },
  "kernelspec": {
   "display_name": "Python 3.8.5 64-bit ('base': conda)",
   "name": "python3"
  },
  "language_info": {
   "codemirror_mode": {
    "name": "ipython",
    "version": 3
   },
   "file_extension": ".py",
   "mimetype": "text/x-python",
   "name": "python",
   "nbconvert_exporter": "python",
   "pygments_lexer": "ipython3",
   "version": "3.8.5"
  },
  "orig_nbformat": 4
 },
 "nbformat": 4,
 "nbformat_minor": 2
}
