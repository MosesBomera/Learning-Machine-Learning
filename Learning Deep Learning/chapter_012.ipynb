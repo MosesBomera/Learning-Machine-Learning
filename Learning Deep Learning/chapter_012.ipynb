{
  "nbformat": 4,
  "nbformat_minor": 0,
  "metadata": {
    "colab": {
      "name": "chapter_012.ipynb",
      "provenance": []
    },
    "kernelspec": {
      "name": "python3",
      "display_name": "Python 3"
    },
    "language_info": {
      "name": "python"
    },
    "accelerator": "GPU"
  },
  "cells": [
    {
      "cell_type": "markdown",
      "metadata": {
        "id": "sE_Foq-7x60d"
      },
      "source": [
        "# Neural Language Models and Word Embeddings"
      ]
    },
    {
      "cell_type": "markdown",
      "metadata": {
        "id": "Rahi5_WDx5FJ"
      },
      "source": [
        "This notebook uses the text from the book, [Frankenstein; Or, The Modern Prometheus by Mary Wollstonecraft Shelley](https://www.gutenberg.org/ebooks/42324) as the training dataset."
      ]
    },
    {
      "cell_type": "markdown",
      "metadata": {
        "id": "Er4mRb60yG42"
      },
      "source": [
        "TENSORFLOW"
      ]
    },
    {
      "cell_type": "code",
      "metadata": {
        "id": "AI1AKd55yGL8"
      },
      "source": [
        "# LIBRARIES\n",
        "import numpy as np\n",
        "from tensorflow.keras.models import Sequential\n",
        "from tensorflow.keras.layers import Dense\n",
        "from tensorflow.keras.layers import LSTM\n",
        "from tensorflow.keras.layers import Embedding\n",
        "from tensorflow.keras.preprocessing.text import Tokenizer\n",
        "from tensorflow.keras.preprocessing.text import text_to_word_sequence\n",
        "import tensorflow as tf \n",
        "import logging\n",
        "tf.get_logger().setLevel(logging.ERROR)"
      ],
      "execution_count": null,
      "outputs": []
    },
    {
      "cell_type": "code",
      "metadata": {
        "id": "1UFDs_0Bwwl4"
      },
      "source": [
        "# PARAMETERS\n",
        "EPOCHS = 32\n",
        "BATCH_SIZE = 256\n",
        "INPUT_FILE_NAME = 'frankenstein.txt'\n",
        "WINDOW_LENGTH = 40\n",
        "WINDOW_STEP = 3\n",
        "PREDICT_LENGTH = 3\n",
        "MAX_WORDS = 10000\n",
        "EMBEDDING_WIDTH = 100"
      ],
      "execution_count": null,
      "outputs": []
    },
    {
      "cell_type": "code",
      "metadata": {
        "id": "fXBKiE0vz59j"
      },
      "source": [
        "# Read in the file\n",
        "file = open(INPUT_FILE_NAME, 'r', encoding='utf-8-sig') # Handle BOM\n",
        "text = file.read()\n",
        "file.close()"
      ],
      "execution_count": null,
      "outputs": []
    },
    {
      "cell_type": "code",
      "metadata": {
        "id": "gkN5A5Xi0zWO"
      },
      "source": [
        "# Make lower case and split into individual words\n",
        "text = text_to_word_sequence(text, filters='!\"#$%&()*+,-./:;<=>?@[\\\\]^”_`{|}~\\t\\n')"
      ],
      "execution_count": null,
      "outputs": []
    },
    {
      "cell_type": "code",
      "metadata": {
        "id": "EhuHJxeg01WG"
      },
      "source": [
        "# Create training examples.\n",
        "fragments = []\n",
        "targets = []\n",
        "for i in range(0, len(text) - WINDOW_LENGTH, WINDOW_STEP):\n",
        "  fragments.append(text[i: i+WINDOW_LENGTH])\n",
        "  targets.append(text[i+WINDOW_LENGTH])"
      ],
      "execution_count": null,
      "outputs": []
    },
    {
      "cell_type": "code",
      "metadata": {
        "id": "EHcpaj8p3MLT"
      },
      "source": [
        "len(fragments)"
      ],
      "execution_count": null,
      "outputs": []
    },
    {
      "cell_type": "code",
      "metadata": {
        "id": "eIRpMAGn1Bry"
      },
      "source": [
        "# Example\n",
        "fragments[10000], targets[10000]"
      ],
      "execution_count": null,
      "outputs": []
    },
    {
      "cell_type": "code",
      "metadata": {
        "id": "uw1y4q6D1was"
      },
      "source": [
        "# Convert to indices.\n",
        "tokenizer = Tokenizer(num_words=MAX_WORDS, oov_token='UNK')\n",
        "tokenizer.fit_on_texts(text)\n",
        "fragments_indexed = tokenizer.texts_to_sequences(fragments)\n",
        "targets_indexed = tokenizer.texts_to_sequences(targets)\n",
        "\n",
        "# Convert to appropriate input and output formats.\n",
        "X = np.array(fragments_indexed, dtype=np.int)\n",
        "y = np.zeros((len(targets_indexed), MAX_WORDS))\n",
        "for i, target_index in enumerate(targets_indexed):\n",
        "    y[i, target_index] = 1"
      ],
      "execution_count": null,
      "outputs": []
    },
    {
      "cell_type": "code",
      "metadata": {
        "id": "zjBQd7NGwRr2"
      },
      "source": [
        "# Build and train model\n",
        "training_model = Sequential()\n",
        "training_model.add(Embedding(\n",
        "    output_dim=EMBEDDING_WIDTH, input_dim=MAX_WORDS,\n",
        "    mask_zero=True, input_length=None))\n",
        "training_model.add(LSTM(128, return_sequences=True, dropout=0.2, recurrent_dropout=0.2))\n",
        "training_model.add(LSTM(128, dropout=0.2, recurrent_dropout=0.2))\n",
        "training_model.add(Dense(128, activation='relu'))\n",
        "training_model.add(Dense(MAX_WORDS, activation='softmax'))\n",
        "training_model.compile(loss='categorical_crossentropy', optimizer='adam')\n",
        "training_model.summary()"
      ],
      "execution_count": null,
      "outputs": []
    },
    {
      "cell_type": "code",
      "metadata": {
        "id": "miVX4zw4xHv4"
      },
      "source": [
        "# Training\n",
        "history = training_model.fit(X, y, validation_split=0.05, batch_size=BATCH_SIZE, epochs=EPOCHS, verbose=2, shuffle=True)"
      ],
      "execution_count": null,
      "outputs": []
    },
    {
      "cell_type": "code",
      "metadata": {
        "id": "SxEcp4sDUBmn"
      },
      "source": [
        "# For the predictions, it is important for the model to consider its past predictions\n",
        "# for its next prediction, to achieve this, we set the LSTM layers to stateful,\n",
        "# to keep the state from the last prediction(s).\n",
        "# We use the trained model weights and simply transfer them to the inference model,\n",
        "# which has exactly the same architecture as the training model.\n",
        "# The only difference is that the LSTM layers are defined as stateful,\n",
        "# and the batch_input_shape set to 1.\n",
        "inference_model = Sequential()\n",
        "inference_model.add(Embedding(\n",
        "    output_dim=EMBEDDING_WIDTH, input_dim=MAX_WORDS, mask_zero=True,\n",
        "    batch_input_shape=(1,1)))\n",
        "inference_model.add(LSTM(128, return_sequences=True, dropout=0.2, \n",
        "                         recurrent_dropout=0.2, stateful=True))\n",
        "inference_model.add(LSTM(128, dropout=0.2, recurrent_dropout=0.2, stateful=True))\n",
        "inference_model.add(Dense(128, activation='relu'))\n",
        "inference_model.add(Dense(MAX_WORDS, activation='softmax'))\n",
        "weights = training_model.get_weights()\n",
        "inference_model.set_weights(weights)"
      ],
      "execution_count": null,
      "outputs": []
    },
    {
      "cell_type": "code",
      "metadata": {
        "id": "J9I9AxPjdHud"
      },
      "source": [
        "# The prediction\n",
        "first_words = ['i', 'saw']\n",
        "first_words_indexed = tokenizer.texts_to_sequences(first_words)\n",
        "# Break the dependency on the last training example.\n",
        "inference_model.reset_states()"
      ],
      "execution_count": null,
      "outputs": []
    },
    {
      "cell_type": "code",
      "metadata": {
        "id": "YthiKJ_yekEf"
      },
      "source": [
        "predicted_string = ''\n",
        "# Feed initial words to the model.\n",
        "for i, word_index in enumerate(first_words_indexed):\n",
        "  x = np.zeros((1,1), dtype=np.int)\n",
        "  x[0][0] = word_index[0]\n",
        "  predicted_string += first_words[i]\n",
        "  predicted_string += ' '\n",
        "  y_predict = inference_model.predict(x, verbose=0)[0]"
      ],
      "execution_count": null,
      "outputs": []
    },
    {
      "cell_type": "code",
      "metadata": {
        "id": "CFqVleqaepMA"
      },
      "source": [
        "# Predict PREDICT_LENGTH words.\n",
        "for i in range(PREDICT_LENGTH):\n",
        "  new_word_index = np.argmax(y_predict)\n",
        "  word = tokenizer.sequences_to_texts([[new_word_index]])\n",
        "  x[0][0] = new_word_index \n",
        "  predicted_string += word[0]\n",
        "  predicted_string += ' '\n",
        "  y_predict = inference_model.predict(x, verbose=0)[0]\n",
        "\n",
        "# Print the predictions\n",
        "print(predicted_string)"
      ],
      "execution_count": null,
      "outputs": []
    },
    {
      "cell_type": "code",
      "metadata": {
        "id": "_YsrzJH1hN-b"
      },
      "source": [
        "# Explore embedding similarities.\n",
        "embeddings = training_model.layers[0].get_weights()[0]"
      ],
      "execution_count": null,
      "outputs": []
    },
    {
      "cell_type": "code",
      "metadata": {
        "id": "AfF901PwM23b"
      },
      "source": [
        "# The multi-dimensional projections of each word index\n",
        "# to 100-dimensional space.\n",
        "len(embeddings[0])"
      ],
      "execution_count": null,
      "outputs": []
    },
    {
      "cell_type": "code",
      "metadata": {
        "id": "VAe2rDbmh-ON"
      },
      "source": [
        "lookup_words = ['the', 'saw', 'see', 'of', 'and',\n",
        "                'monster', 'frankenstein', 'read', 'eat']\n",
        "for lookup_word in lookup_words:\n",
        "    lookup_word_indexed = tokenizer.texts_to_sequences(\n",
        "        [lookup_word])\n",
        "    print('words close to:', lookup_word)\n",
        "    lookup_embedding = embeddings[lookup_word_indexed[0]]\n",
        "    word_indices = {}\n",
        "    # Calculate distances.\n",
        "    for i, embedding in enumerate(embeddings):\n",
        "        distance = np.linalg.norm(\n",
        "            embedding - lookup_embedding)\n",
        "        word_indices[distance] = i\n",
        "    # Print sorted by distance.\n",
        "    for distance in sorted(word_indices.keys())[:5]:\n",
        "        word_index = word_indices[distance]\n",
        "        word = tokenizer.sequences_to_texts([[word_index]])[0]\n",
        "        print(word + ': ', distance)\n",
        "    print('')"
      ],
      "execution_count": null,
      "outputs": []
    },
    {
      "cell_type": "code",
      "metadata": {
        "id": "liCmW5DTNIQx"
      },
      "source": [
        ""
      ],
      "execution_count": null,
      "outputs": []
    },
    {
      "cell_type": "markdown",
      "metadata": {
        "id": "PN6Ta2-0NmjQ"
      },
      "source": [
        "PYTORCH"
      ]
    },
    {
      "cell_type": "code",
      "metadata": {
        "id": "jpschNLXNnpH"
      },
      "source": [
        "import torch\n",
        "import torch.nn as nn\n",
        "from sklearn.model_selection import train_test_split\n",
        "from torch.utils.data import TensorDataset, DataLoader\n",
        "# Using Keras Tokenizer for simplicity\n",
        "from tensorflow.keras.preprocessing.text import Tokenizer\n",
        "from tensorflow.keras.preprocessing.text import text_to_word_sequence\n",
        "import numpy as np\n",
        "from utils import train_model\n",
        "\n",
        "# Set up device\n",
        "device = torch.device(\"cuda:0\" if torch.cuda.is_available() else \"cpu\")\n",
        "EPOCHS = 32\n",
        "BATCH_SIZE = 256\n",
        "INPUT_FILE_NAME = 'frankenstein.txt'\n",
        "WINDOW_LENGTH = 40\n",
        "WINDOW_STEP = 3\n",
        "PREDICT_LENGTH = 3\n",
        "MAX_WORDS = 10000\n",
        "EMBEDDING_WIDTH = 100"
      ],
      "execution_count": null,
      "outputs": []
    },
    {
      "cell_type": "code",
      "metadata": {
        "id": "do1jNLwRN2lp"
      },
      "source": [
        "# Open the input file.\n",
        "file = open(INPUT_FILE_NAME, 'r', encoding='utf-8-sig')\n",
        "text = file.read()\n",
        "file.close()\n",
        "\n",
        "# Make lower case and split into individual words.\n",
        "text = text_to_word_sequence(text)\n",
        "\n",
        "# Create training examples.\n",
        "fragments = []\n",
        "targets = []\n",
        "for i in range(0, len(text) - WINDOW_LENGTH, WINDOW_STEP):\n",
        "    fragments.append(text[i: i + WINDOW_LENGTH])\n",
        "    targets.append(text[i + WINDOW_LENGTH])"
      ],
      "execution_count": null,
      "outputs": []
    },
    {
      "cell_type": "code",
      "metadata": {
        "id": "SyGuvvJMOADB"
      },
      "source": [
        "# Convert to indices.\n",
        "tokenizer = Tokenizer(num_words=MAX_WORDS, oov_token='UNK')\n",
        "tokenizer.fit_on_texts(text)\n",
        "fragments_indexed = tokenizer.texts_to_sequences(fragments)\n",
        "targets_indexed = tokenizer.texts_to_sequences(targets)\n",
        "\n",
        "# Convert to appropriate input and output formats.\n",
        "X = np.array(fragments_indexed, dtype=np.int)\n",
        "y = np.zeros(len(targets_indexed), dtype=np.int)\n",
        "for i, target_index in enumerate(targets_indexed):\n",
        "    y[i] = target_index[0]"
      ],
      "execution_count": null,
      "outputs": []
    },
    {
      "cell_type": "code",
      "metadata": {
        "id": "8C2lFLQwOh9M"
      },
      "source": [
        "# Example\n",
        "display(y.shape)\n",
        "display(y[34])"
      ],
      "execution_count": null,
      "outputs": []
    },
    {
      "cell_type": "code",
      "metadata": {
        "id": "FkYQHzePOFM9"
      },
      "source": [
        "# Pytorch specifics\n",
        "train_X, test_X, train_y, test_y = train_test_split(\n",
        "    X, y, test_size=0.05, random_state=0\n",
        ")\n",
        "\n",
        "# Create Dataset objects.\n",
        "trainset = TensorDataset(torch.from_numpy(train_X), torch.from_numpy(train_y))\n",
        "testset = TensorDataset(torch.from_numpy(test_X), torch.from_numpy(test_y))"
      ],
      "execution_count": null,
      "outputs": []
    },
    {
      "cell_type": "code",
      "metadata": {
        "id": "NAoggaK4OqP7"
      },
      "source": [
        "# The model\n",
        "class LanguageModel(nn.Module):\n",
        "  def __init__(self):\n",
        "    super().__init__()\n",
        "    self.state = None\n",
        "    self.use_state = False\n",
        "    self.embedding_layer = nn.Embedding(MAX_WORDS, EMBEDDING_WIDTH)\n",
        "    # Adjust the weights initialization to a bound of +-0.05\n",
        "    nn.init.uniform_(self.embedding_layer.weight, -0.05, 0.05)\n",
        "    self.lstm_layers = nn.LSTM(EMBEDDING_WIDTH, 128, num_layers=2, dropout=0.2, batch_first=True)\n",
        "    self.dropout_layer = nn.Dropout(0.2)\n",
        "    self.linear_layer = nn.Linear(128, 128)\n",
        "    self.relu_layer = nn.ReLU()\n",
        "    self.output_layer = nn.Linear(128, MAX_WORDS)\n",
        "\n",
        "  def forward(self, inputs):\n",
        "    x = self.embedding_layer(inputs)\n",
        "    if (self.use_state):\n",
        "      x = self.lstm_layers(x, self.state)\n",
        "    else:\n",
        "      x = self.lstm_layers(x)\n",
        "    # Store the most recent recent internal state.\n",
        "    self.state = (x[1][0].detach().clone(), x[1][1].detach().clone())\n",
        "    # Return the hidden state for the last timestep.\n",
        "    x = self.dropout_layer(x[1][0][1])\n",
        "    x = self.linear_layer(x)\n",
        "    x = self.relu_layer(x)\n",
        "    x = self.output_layer(x)\n",
        "    return x\n",
        "\n",
        "  # Functions to control the LSTM state\n",
        "  def set_state(self, state):\n",
        "    self.state = state\n",
        "    self.use_state = True\n",
        "    return\n",
        "\n",
        "  def get_state(self):\n",
        "    return self.state\n",
        "\n",
        "  def clear_state(self):\n",
        "    self.use_state = False\n",
        "    return"
      ],
      "execution_count": null,
      "outputs": []
    },
    {
      "cell_type": "code",
      "metadata": {
        "id": "Tr5OY_otvvIF"
      },
      "source": [
        "# Declare model\n",
        "model = LanguageModel()\n",
        "model"
      ],
      "execution_count": null,
      "outputs": []
    },
    {
      "cell_type": "code",
      "metadata": {
        "id": "o4RqC0L0vnWe"
      },
      "source": [
        "# Loss function and optimizer\n",
        "optimizer = torch.optim.Adam(model.parameters())\n",
        "loss_function = nn.CrossEntropyLoss()\n",
        "\n",
        "# Train the model.\n",
        "train_model(model, device, EPOCHS, BATCH_SIZE, trainset, testset,\n",
        "            optimizer, loss_function, 'acc')"
      ],
      "execution_count": null,
      "outputs": []
    },
    {
      "cell_type": "code",
      "metadata": {
        "id": "NdsDBBFmzK8G"
      },
      "source": [
        "# Provide beginning of sentence and\n",
        "# predict next words in a greedy manner.\n",
        "first_words = ['i', 'saw']\n",
        "first_words_indexed = tokenizer.texts_to_sequences(\n",
        "    first_words)\n",
        "model.clear_state()\n",
        "predicted_string = ''\n",
        "# Feed initial words to the model.\n",
        "for i, word_index in enumerate(first_words_indexed):\n",
        "    x = np.zeros((1, 1), dtype=np.int)\n",
        "    x[0][0] = word_index[0]\n",
        "    predicted_string += first_words[i]\n",
        "    predicted_string += ' '\n",
        "    inputs = torch.from_numpy(x)\n",
        "    inputs = inputs.to(device)\n",
        "    outputs = model(inputs)\n",
        "    y_predict = outputs.cpu().detach().numpy()[0]\n",
        "    state = model.get_state()\n",
        "    model.set_state(state)\n",
        "# Predict PREDICT_LENGTH words.\n",
        "for i in range(PREDICT_LENGTH):\n",
        "    new_word_index = np.argmax(y_predict)\n",
        "    word = tokenizer.sequences_to_texts(\n",
        "        [[new_word_index]])\n",
        "    x[0][0] = new_word_index\n",
        "    predicted_string += word[0]\n",
        "    predicted_string += ' '\n",
        "    inputs = torch.from_numpy(x)\n",
        "    inputs = inputs.to(device)\n",
        "    outputs = model(inputs)\n",
        "    y_predict = outputs.cpu().detach().numpy()[0]\n",
        "    state = model.get_state()\n",
        "    model.set_state(state)\n",
        "print(predicted_string)"
      ],
      "execution_count": null,
      "outputs": []
    },
    {
      "cell_type": "code",
      "metadata": {
        "id": "lhLZEhAvzzzM"
      },
      "source": [
        "# Exploring the word embedding similarities.\n",
        "# Explore embedding similarities.\n",
        "it = model.modules()"
      ],
      "execution_count": null,
      "outputs": []
    },
    {
      "cell_type": "code",
      "metadata": {
        "id": "7U-kwu1s0Fh8"
      },
      "source": [
        "# Extract the embedding weights.\n",
        "next(it)\n",
        "embeddings = next(it).weight\n",
        "embeddings = embeddings.detach().clone().cpu().numpy()"
      ],
      "execution_count": null,
      "outputs": []
    },
    {
      "cell_type": "code",
      "metadata": {
        "id": "kQTLPF-h0GGS"
      },
      "source": [
        "lookup_words = ['the', 'saw', 'see', 'of', 'and',\n",
        "                'monster', 'frankenstein', 'read', 'eat']\n",
        "for lookup_word in lookup_words:\n",
        "    lookup_word_indexed = tokenizer.texts_to_sequences(\n",
        "        [lookup_word])\n",
        "    print('words close to:', lookup_word)\n",
        "    lookup_embedding = embeddings[lookup_word_indexed[0]]\n",
        "    word_indices = {}\n",
        "    # Calculate distances.\n",
        "    for i, embedding in enumerate(embeddings):\n",
        "        distance = np.linalg.norm(\n",
        "            embedding - lookup_embedding)\n",
        "        word_indices[distance] = i\n",
        "    # Print sorted by distance.\n",
        "    for distance in sorted(word_indices.keys())[:5]:\n",
        "        word_index = word_indices[distance]\n",
        "        word = tokenizer.sequences_to_texts([[word_index]])[0]\n",
        "        print(word + ': ', distance)\n",
        "    print('')"
      ],
      "execution_count": null,
      "outputs": []
    },
    {
      "cell_type": "code",
      "metadata": {
        "id": "dt8oSkLE0ooy"
      },
      "source": [
        ""
      ],
      "execution_count": null,
      "outputs": []
    }
  ]
}