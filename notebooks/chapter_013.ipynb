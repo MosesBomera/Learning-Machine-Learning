{
  "nbformat": 4,
  "nbformat_minor": 0,
  "metadata": {
    "colab": {
      "name": "chapter_013.ipynb",
      "provenance": [],
      "collapsed_sections": []
    },
    "kernelspec": {
      "name": "python3",
      "display_name": "Python 3"
    },
    "language_info": {
      "name": "python"
    }
  },
  "cells": [
    {
      "cell_type": "markdown",
      "metadata": {
        "id": "b4OKJAvpz-xK"
      },
      "source": [
        "# Word Embeddings from word2vec and GloVe"
      ]
    },
    {
      "cell_type": "markdown",
      "metadata": {
        "id": "x9VmeRty0gLI"
      },
      "source": [
        "### GloVe WORD EMBEDDINGS\n",
        "The GloVe word embeddings file is downloaded from http://nlp.stanford.edu/data/glove.6B.zip."
      ]
    },
    {
      "cell_type": "code",
      "metadata": {
        "colab": {
          "base_uri": "https://localhost:8080/"
        },
        "id": "kidT7lwUz7WX",
        "outputId": "94393de4-e569-4fcf-d20c-7a13c07c99fb"
      },
      "source": [
        "# Download the zip file\n",
        "!wget http://nlp.stanford.edu/data/glove.6B.zip"
      ],
      "execution_count": 1,
      "outputs": [
        {
          "output_type": "stream",
          "name": "stdout",
          "text": [
            "--2021-11-08 18:34:18--  http://nlp.stanford.edu/data/glove.6B.zip\n",
            "Resolving nlp.stanford.edu (nlp.stanford.edu)... 171.64.67.140\n",
            "Connecting to nlp.stanford.edu (nlp.stanford.edu)|171.64.67.140|:80... connected.\n",
            "HTTP request sent, awaiting response... 302 Found\n",
            "Location: https://nlp.stanford.edu/data/glove.6B.zip [following]\n",
            "--2021-11-08 18:34:18--  https://nlp.stanford.edu/data/glove.6B.zip\n",
            "Connecting to nlp.stanford.edu (nlp.stanford.edu)|171.64.67.140|:443... connected.\n",
            "HTTP request sent, awaiting response... 301 Moved Permanently\n",
            "Location: http://downloads.cs.stanford.edu/nlp/data/glove.6B.zip [following]\n",
            "--2021-11-08 18:34:18--  http://downloads.cs.stanford.edu/nlp/data/glove.6B.zip\n",
            "Resolving downloads.cs.stanford.edu (downloads.cs.stanford.edu)... 171.64.64.22\n",
            "Connecting to downloads.cs.stanford.edu (downloads.cs.stanford.edu)|171.64.64.22|:80... connected.\n",
            "HTTP request sent, awaiting response... 200 OK\n",
            "Length: 862182613 (822M) [application/zip]\n",
            "Saving to: ‘glove.6B.zip’\n",
            "\n",
            "glove.6B.zip        100%[===================>] 822.24M  5.02MB/s    in 2m 40s  \n",
            "\n",
            "2021-11-08 18:36:58 (5.14 MB/s) - ‘glove.6B.zip’ saved [862182613/862182613]\n",
            "\n"
          ]
        }
      ]
    },
    {
      "cell_type": "code",
      "metadata": {
        "colab": {
          "base_uri": "https://localhost:8080/"
        },
        "id": "9TjvmaFw1BlD",
        "outputId": "f996fecc-5a14-4999-d21d-0245b9872821"
      },
      "source": [
        "# Unzip the downloaded file.\n",
        "# Create the base directory folder.\n",
        "!mkdir data\n",
        "# Run the unzip feature.\n",
        "!unzip /content/glove.6B.zip -d data"
      ],
      "execution_count": 2,
      "outputs": [
        {
          "output_type": "stream",
          "name": "stdout",
          "text": [
            "Archive:  /content/glove.6B.zip\n",
            "  inflating: data/glove.6B.50d.txt   \n",
            "  inflating: data/glove.6B.100d.txt  \n",
            "  inflating: data/glove.6B.200d.txt  \n",
            "  inflating: data/glove.6B.300d.txt  \n"
          ]
        }
      ]
    },
    {
      "cell_type": "code",
      "metadata": {
        "id": "D_Z1EFKE12uR"
      },
      "source": [
        "# Libraries\n",
        "import numpy as np\n",
        "import scipy.spatial"
      ],
      "execution_count": 3,
      "outputs": []
    },
    {
      "cell_type": "code",
      "metadata": {
        "id": "PLcgnjgi2T4d"
      },
      "source": [
        "# Read embeddings from file\n",
        "def read_embeddings(\n",
        "    file_path:\"The full path to the file to be read.\"\n",
        "    ):\n",
        "  \"\"\"Reads the contents of the file with the word embeddings.\"\"\"\n",
        "  embeddings = {}\n",
        "  file = open(file_path, 'r', encoding='utf-8')\n",
        "  for line in file:\n",
        "    values = line.split() # Split based on space.\n",
        "    word = values[0] # Select the word.\n",
        "    vector = np.asarray(values[1:], dtype='float32') # Select the corresponding embeddings.\n",
        "    embeddings[word] = vector\n",
        "  file.close()\n",
        "  print(f\"Read {len(embeddings)} embeddings.\")\n",
        "  return embeddings"
      ],
      "execution_count": 7,
      "outputs": []
    },
    {
      "cell_type": "code",
      "metadata": {
        "id": "z2KvF_Z63U_I"
      },
      "source": [
        "def print_n_closest(embeddings, vec0, n):\n",
        "  \"\"\"Print the closest (in vector space) n words to a given vector (vec0).\"\"\"\n",
        "  word_distances = {}\n",
        "  for (word, vec1) in embeddings.items():\n",
        "    distance = scipy.spatial.distance.cosine(vec1, vec0)\n",
        "    word_distances[distance] = word\n",
        "  # Print words sorted by distance.\n",
        "  for distance in sorted(word_distances.keys())[:n]:\n",
        "    word = word_distances[distance]\n",
        "    print(f\"{word}: {distance:6.3f}\")"
      ],
      "execution_count": 18,
      "outputs": []
    },
    {
      "cell_type": "code",
      "metadata": {
        "colab": {
          "base_uri": "https://localhost:8080/"
        },
        "id": "X0fuu4Vm4m2X",
        "outputId": "57edf0c6-c72d-45b5-a729-db76f1221278"
      },
      "source": [
        "# Read in the embeddings\n",
        "embeddings = read_embeddings('/content/data/glove.6B.100d.txt')"
      ],
      "execution_count": 16,
      "outputs": [
        {
          "output_type": "stream",
          "name": "stdout",
          "text": [
            "Read 400000 embeddings.\n"
          ]
        }
      ]
    },
    {
      "cell_type": "code",
      "metadata": {
        "colab": {
          "base_uri": "https://localhost:8080/"
        },
        "id": "ubVTakgN4zkS",
        "outputId": "aef915c4-6c7c-4c89-dbef-6a9495e4bce7"
      },
      "source": [
        "lookup_word = 'hello'\n",
        "print('\\nWords closest to ' + lookup_word)\n",
        "print_n_closest(embeddings, embeddings[lookup_word], 3)\n",
        "\n",
        "lookup_word = 'precisely'\n",
        "print('\\nWords closest to ' + lookup_word)\n",
        "print_n_closest(embeddings, embeddings[lookup_word], 3)\n",
        "\n",
        "lookup_word = 'dog'\n",
        "print('\\nWords closest to ' + lookup_word) \n",
        "print_n_closest(embeddings, embeddings[lookup_word], 3)"
      ],
      "execution_count": 19,
      "outputs": [
        {
          "output_type": "stream",
          "name": "stdout",
          "text": [
            "\n",
            "Words closest to hello\n",
            "hello:  0.000\n",
            "goodbye:  0.209\n",
            "hey:  0.283\n",
            "\n",
            "Words closest to precisely\n",
            "precisely:  0.000\n",
            "exactly:  0.147\n",
            "accurately:  0.293\n",
            "\n",
            "Words closest to dog\n",
            "dog:  0.000\n",
            "cat:  0.120\n",
            "dogs:  0.166\n"
          ]
        }
      ]
    },
    {
      "cell_type": "code",
      "metadata": {
        "colab": {
          "base_uri": "https://localhost:8080/"
        },
        "id": "L2mNikaR4-I7",
        "outputId": "dd88158e-b593-4293-9908-7fb682e54218"
      },
      "source": [
        "lookup_word = 'king'\n",
        "print('\\nWords closest to ' + lookup_word)\n",
        "print_n_closest(embeddings, embeddings[lookup_word], 3)\n",
        "\n",
        "# king - man + woman = ?\n",
        "lookup_word = '(king - man + woman)'\n",
        "print('\\nWords closest to ' + lookup_word)\n",
        "vec = embeddings['king'] - embeddings['man'] + embeddings['woman']\n",
        "print_n_closest(embeddings, vec, 3)"
      ],
      "execution_count": 20,
      "outputs": [
        {
          "output_type": "stream",
          "name": "stdout",
          "text": [
            "\n",
            "Words closest to king\n",
            "king:  0.000\n",
            "prince:  0.232\n",
            "queen:  0.249\n",
            "\n",
            "Words closest to (king - man + woman)\n",
            "king:  0.145\n",
            "queen:  0.217\n",
            "monarch:  0.307\n"
          ]
        }
      ]
    },
    {
      "cell_type": "code",
      "metadata": {
        "colab": {
          "base_uri": "https://localhost:8080/"
        },
        "id": "hh_MOdlV6PdF",
        "outputId": "1c922da9-5010-46cc-ecac-45183199dcc5"
      },
      "source": [
        "lookup_word = 'uganda'\n",
        "print('\\nWords closest to ' + lookup_word)\n",
        "print_n_closest(embeddings, embeddings[lookup_word], 3)\n",
        "\n",
        "lookup_word = 'kampala'\n",
        "print('\\nWords closest to ' + lookup_word)\n",
        "print_n_closest(embeddings, embeddings[lookup_word], 3)\n",
        "\n",
        "lookup_word = '(madrid - spain + uganda)'\n",
        "print('\\nWords closest to ' + lookup_word)\n",
        "vec = embeddings['madrid'] - embeddings['spain'] + embeddings['uganda']\n",
        "print_n_closest(embeddings, vec, 3)"
      ],
      "execution_count": 22,
      "outputs": [
        {
          "output_type": "stream",
          "name": "stdout",
          "text": [
            "\n",
            "Words closest to uganda\n",
            "uganda:  0.000\n",
            "tanzania:  0.141\n",
            "rwanda:  0.170\n",
            "\n",
            "Words closest to kampala\n",
            "kampala:  0.000\n",
            "nairobi:  0.235\n",
            "kigali:  0.302\n",
            "\n",
            "Words closest to (madrid - spain + uganda)\n",
            "kampala:  0.235\n",
            "uganda:  0.291\n",
            "ugandan:  0.330\n"
          ]
        }
      ]
    },
    {
      "cell_type": "code",
      "metadata": {
        "id": "lTQckLDr64JH"
      },
      "source": [
        ""
      ],
      "execution_count": null,
      "outputs": []
    }
  ]
}