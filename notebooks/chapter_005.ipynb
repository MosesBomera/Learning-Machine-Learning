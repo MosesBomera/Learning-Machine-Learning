{
 "cells": [
  {
   "cell_type": "markdown",
   "metadata": {},
   "source": [
    "### CHAPTER 5"
   ]
  },
  {
   "cell_type": "markdown",
   "metadata": {},
   "source": [
    "TENSORFLOW"
   ]
  },
  {
   "cell_type": "code",
   "execution_count": 50,
   "metadata": {},
   "outputs": [],
   "source": [
    "import tensorflow as tf\n",
    "from tensorflow import keras \n",
    "from tensorflow.keras.utils import to_categorical\n",
    "import numpy as np\n",
    "import logging\n",
    "\n",
    "tf.get_logger().setLevel(logging.ERROR)\n",
    "tf.random.set_seed(7)\n",
    "\n",
    "EPOCHS = 20\n",
    "BATCH_SIZE = 1"
   ]
  },
  {
   "cell_type": "code",
   "execution_count": 51,
   "metadata": {},
   "outputs": [],
   "source": [
    "# Load training and test datasets.\n",
    "mnist = keras.datasets.mnist\n",
    "(train_images, train_labels), (test_images, test_labels) = mnist.load_data()\n",
    "\n",
    "# Standardize the data\n",
    "mean = np.mean(train_images)\n",
    "stddev = np.std(train_images)\n",
    "train_images = (train_images - mean) / stddev\n",
    "test_images = (test_images - mean) / stddev\n",
    "\n",
    "# One-hot encode labels\n",
    "train_labels = to_categorical(train_labels, num_classes=10)\n",
    "test_labels = to_categorical(test_labels, num_classes=10)"
   ]
  },
  {
   "cell_type": "code",
   "execution_count": 52,
   "metadata": {},
   "outputs": [
    {
     "data": {
      "text/plain": [
       "array([1., 0., 0., 0., 0., 0., 0., 0., 0., 0.], dtype=float32)"
      ]
     },
     "execution_count": 52,
     "metadata": {},
     "output_type": "execute_result"
    }
   ],
   "source": [
    "# Check the encoding\n",
    "train_labels[1]"
   ]
  },
  {
   "cell_type": "markdown",
   "metadata": {},
   "source": [
    "#### The Network"
   ]
  },
  {
   "cell_type": "code",
   "execution_count": 6,
   "metadata": {},
   "outputs": [],
   "source": [
    "# Initialize weights\n",
    "initializer = keras.initializers.RandomUniform(minval=-0.1, maxval=0.1)\n",
    "\n",
    "# A sequential model\n",
    "# 784 inputs\n",
    "# Two dense (fully connected) layers with 25 neurons and 10 neurons\n",
    "# Hidden Layer: Activation (tanh)\n",
    "# Output Layer: Activation (Logistic function)\n",
    "model = keras.Sequential([\n",
    "    keras.layers.Flatten(input_shape=(28,28)), # 784\n",
    "    keras.layers.Dense(25, activation='tanh',kernel_initializer=initializer,bias_initializer='zeros'), \n",
    "    keras.layers.Dense(10, activation='sigmoid', kernel_initializer=initializer, bias_initializer='zeros')\n",
    "])"
   ]
  },
  {
   "cell_type": "code",
   "execution_count": 9,
   "metadata": {},
   "outputs": [
    {
     "name": "stdout",
     "output_type": "stream",
     "text": [
      "Model: \"sequential\"\n",
      "_________________________________________________________________\n",
      "Layer (type)                 Output Shape              Param #   \n",
      "=================================================================\n",
      "flatten_1 (Flatten)          (None, 784)               0         \n",
      "_________________________________________________________________\n",
      "dense_2 (Dense)              (None, 25)                19625     \n",
      "_________________________________________________________________\n",
      "dense_3 (Dense)              (None, 10)                260       \n",
      "=================================================================\n",
      "Total params: 19,885\n",
      "Trainable params: 19,885\n",
      "Non-trainable params: 0\n",
      "_________________________________________________________________\n"
     ]
    }
   ],
   "source": [
    "model.summary()"
   ]
  },
  {
   "cell_type": "code",
   "execution_count": 11,
   "metadata": {},
   "outputs": [
    {
     "name": "stdout",
     "output_type": "stream",
     "text": [
      "Epoch 1/20\n",
      "60000/60000 - 25s - loss: 0.0493 - accuracy: 0.7168 - val_loss: 0.0242 - val_accuracy: 0.9007\n",
      "Epoch 2/20\n",
      "60000/60000 - 27s - loss: 0.0200 - accuracy: 0.9038 - val_loss: 0.0165 - val_accuracy: 0.9185\n",
      "Epoch 3/20\n",
      "60000/60000 - 28s - loss: 0.0158 - accuracy: 0.9161 - val_loss: 0.0143 - val_accuracy: 0.9238\n",
      "Epoch 4/20\n",
      "60000/60000 - 28s - loss: 0.0141 - accuracy: 0.9230 - val_loss: 0.0132 - val_accuracy: 0.9256\n",
      "Epoch 5/20\n",
      "60000/60000 - 31s - loss: 0.0130 - accuracy: 0.9279 - val_loss: 0.0124 - val_accuracy: 0.9286\n",
      "Epoch 6/20\n",
      "60000/60000 - 30s - loss: 0.0123 - accuracy: 0.9312 - val_loss: 0.0119 - val_accuracy: 0.9317\n",
      "Epoch 7/20\n",
      "60000/60000 - 32s - loss: 0.0117 - accuracy: 0.9340 - val_loss: 0.0115 - val_accuracy: 0.9333\n",
      "Epoch 8/20\n",
      "60000/60000 - 38s - loss: 0.0113 - accuracy: 0.9365 - val_loss: 0.0112 - val_accuracy: 0.9343\n",
      "Epoch 9/20\n",
      "60000/60000 - 38s - loss: 0.0109 - accuracy: 0.9383 - val_loss: 0.0110 - val_accuracy: 0.9370\n",
      "Epoch 10/20\n",
      "60000/60000 - 32s - loss: 0.0105 - accuracy: 0.9401 - val_loss: 0.0108 - val_accuracy: 0.9369\n",
      "Epoch 11/20\n",
      "60000/60000 - 29s - loss: 0.0103 - accuracy: 0.9414 - val_loss: 0.0106 - val_accuracy: 0.9376\n",
      "Epoch 12/20\n",
      "60000/60000 - 34s - loss: 0.0100 - accuracy: 0.9423 - val_loss: 0.0106 - val_accuracy: 0.9373\n",
      "Epoch 13/20\n",
      "60000/60000 - 40s - loss: 0.0098 - accuracy: 0.9438 - val_loss: 0.0103 - val_accuracy: 0.9391\n",
      "Epoch 14/20\n",
      "60000/60000 - 34s - loss: 0.0096 - accuracy: 0.9456 - val_loss: 0.0102 - val_accuracy: 0.9397\n",
      "Epoch 15/20\n",
      "60000/60000 - 30s - loss: 0.0094 - accuracy: 0.9462 - val_loss: 0.0103 - val_accuracy: 0.9396\n",
      "Epoch 16/20\n",
      "60000/60000 - 28s - loss: 0.0092 - accuracy: 0.9469 - val_loss: 0.0099 - val_accuracy: 0.9418\n",
      "Epoch 17/20\n",
      "60000/60000 - 31s - loss: 0.0091 - accuracy: 0.9479 - val_loss: 0.0100 - val_accuracy: 0.9391\n",
      "Epoch 18/20\n",
      "60000/60000 - 36s - loss: 0.0089 - accuracy: 0.9486 - val_loss: 0.0099 - val_accuracy: 0.9425\n",
      "Epoch 19/20\n",
      "60000/60000 - 32s - loss: 0.0088 - accuracy: 0.9495 - val_loss: 0.0100 - val_accuracy: 0.9405\n",
      "Epoch 20/20\n",
      "60000/60000 - 30s - loss: 0.0087 - accuracy: 0.9507 - val_loss: 0.0097 - val_accuracy: 0.9438\n"
     ]
    }
   ],
   "source": [
    "# Using stochastic gradient descent (SDG)\n",
    "# Learning rate: 0.01 \n",
    "# Loss function: MSE\n",
    "opt = keras.optimizers.SGD(learning_rate=0.01)\n",
    "model.compile(loss='mean_squared_error', optimizer=opt, metrics=['accuracy'])\n",
    "\n",
    "# Model training\n",
    "# Epochs: 20\n",
    "# Update weights after each example or batch of examples.\n",
    "history = model.fit(\n",
    "    train_images, train_labels,\n",
    "    validation_data=(test_images, test_labels),\n",
    "    epochs=EPOCHS, batch_size=BATCH_SIZE,\n",
    "    verbose=2, shuffle=True\n",
    ")"
   ]
  },
  {
   "cell_type": "code",
   "execution_count": 60,
   "metadata": {},
   "outputs": [
    {
     "name": "stdout",
     "output_type": "stream",
     "text": [
      "Epoch 1/20\n",
      "938/938 - 1s - loss: 0.3473 - accuracy: 0.8958 - val_loss: 0.2153 - val_accuracy: 0.9389\n",
      "Epoch 2/20\n",
      "938/938 - 1s - loss: 0.2007 - accuracy: 0.9424 - val_loss: 0.1827 - val_accuracy: 0.9468\n",
      "Epoch 3/20\n",
      "938/938 - 1s - loss: 0.1685 - accuracy: 0.9510 - val_loss: 0.1649 - val_accuracy: 0.9498\n",
      "Epoch 4/20\n",
      "938/938 - 1s - loss: 0.1453 - accuracy: 0.9574 - val_loss: 0.1532 - val_accuracy: 0.9546\n",
      "Epoch 5/20\n",
      "938/938 - 1s - loss: 0.1331 - accuracy: 0.9604 - val_loss: 0.1405 - val_accuracy: 0.9592\n",
      "Epoch 6/20\n",
      "938/938 - 1s - loss: 0.1215 - accuracy: 0.9640 - val_loss: 0.1444 - val_accuracy: 0.9580\n",
      "Epoch 7/20\n",
      "938/938 - 1s - loss: 0.1122 - accuracy: 0.9663 - val_loss: 0.1436 - val_accuracy: 0.9581\n",
      "Epoch 8/20\n",
      "938/938 - 1s - loss: 0.1049 - accuracy: 0.9688 - val_loss: 0.1342 - val_accuracy: 0.9622\n",
      "Epoch 9/20\n",
      "938/938 - 1s - loss: 0.0983 - accuracy: 0.9704 - val_loss: 0.1400 - val_accuracy: 0.9605\n",
      "Epoch 10/20\n",
      "938/938 - 1s - loss: 0.0923 - accuracy: 0.9714 - val_loss: 0.1419 - val_accuracy: 0.9617\n",
      "Epoch 11/20\n",
      "938/938 - 1s - loss: 0.0884 - accuracy: 0.9732 - val_loss: 0.1420 - val_accuracy: 0.9588\n",
      "Epoch 12/20\n",
      "938/938 - 1s - loss: 0.0840 - accuracy: 0.9742 - val_loss: 0.1428 - val_accuracy: 0.9595\n",
      "Epoch 13/20\n",
      "938/938 - 1s - loss: 0.0811 - accuracy: 0.9750 - val_loss: 0.1419 - val_accuracy: 0.9604\n",
      "Epoch 14/20\n",
      "938/938 - 1s - loss: 0.0776 - accuracy: 0.9755 - val_loss: 0.1396 - val_accuracy: 0.9629\n",
      "Epoch 15/20\n",
      "938/938 - 1s - loss: 0.0730 - accuracy: 0.9773 - val_loss: 0.1374 - val_accuracy: 0.9620\n",
      "Epoch 16/20\n",
      "938/938 - 1s - loss: 0.0711 - accuracy: 0.9780 - val_loss: 0.1414 - val_accuracy: 0.9623\n",
      "Epoch 17/20\n",
      "938/938 - 1s - loss: 0.0674 - accuracy: 0.9792 - val_loss: 0.1372 - val_accuracy: 0.9640\n",
      "Epoch 18/20\n",
      "938/938 - 1s - loss: 0.0656 - accuracy: 0.9789 - val_loss: 0.1411 - val_accuracy: 0.9630\n",
      "Epoch 19/20\n",
      "938/938 - 1s - loss: 0.0630 - accuracy: 0.9805 - val_loss: 0.1483 - val_accuracy: 0.9626\n",
      "Epoch 20/20\n",
      "938/938 - 1s - loss: 0.0601 - accuracy: 0.9809 - val_loss: 0.1442 - val_accuracy: 0.9628\n"
     ]
    }
   ],
   "source": [
    "### Configuration 5 Example\n",
    "# Enploying different techniques to counter vanishing and or exploding gradients.\n",
    "model = keras.Sequential([\n",
    "    keras.layers.Flatten(input_shape=(28,28)),\n",
    "    keras.layers.Dense(25, activation='relu', kernel_initializer='he_normal', bias_initializer='zeros'),\n",
    "    keras.layers.Dense(10, activation='softmax', kernel_initializer='glorot_uniform', bias_initializer='zeros')\n",
    "])\n",
    "\n",
    "# Faster optimizers\n",
    "model.compile(loss='categorical_crossentropy', optimizer='adam', metrics=['accuracy'])\n",
    "# Model training\n",
    "history = model.fit(\n",
    "    train_images, train_labels,\n",
    "    validation_data=(test_images, test_labels),\n",
    "    epochs=20, batch_size=64,\n",
    "    verbose=2, shuffle=True\n",
    ")"
   ]
  },
  {
   "cell_type": "markdown",
   "metadata": {},
   "source": [
    "PYTORCH"
   ]
  },
  {
   "cell_type": "code",
   "execution_count": 1,
   "metadata": {},
   "outputs": [
    {
     "data": {
      "text/plain": [
       "<torch._C.Generator at 0x210cd691950>"
      ]
     },
     "execution_count": 1,
     "metadata": {},
     "output_type": "execute_result"
    }
   ],
   "source": [
    "import torch\n",
    "import torch.nn as nn \n",
    "import torchvision\n",
    "import torchvision.transforms as T\n",
    "from torchvision.datasets import MNIST \n",
    "from torch.utils.data import DataLoader\n",
    "import numpy as np \n",
    "torch.manual_seed(7)"
   ]
  },
  {
   "cell_type": "code",
   "execution_count": 68,
   "metadata": {},
   "outputs": [],
   "source": [
    "# Set 'GPU' or 'CPU' as the base device for training\n",
    "device = torch.device(\"cuda:0\" if torch.cuda.is_available() else \"cpu\")\n",
    "EPOCHS = 20\n",
    "# BATCH_SIZE = 1\n",
    "BATCH_SIZE = 64"
   ]
  },
  {
   "cell_type": "code",
   "execution_count": 69,
   "metadata": {},
   "outputs": [],
   "source": [
    "# Load the training set into a single batch to compute mean and stddev.\n",
    "transform = T.Compose([T.ToTensor()])\n",
    "# Helper MNIST object for calculating the mean and stddev using the batch_size the size of the train dataset.\n",
    "trainset = MNIST(root='./data/pt_mnist', train=True, download=True, transform=transform)\n",
    "trainloader = DataLoader(trainset, batch_size=len(trainset), shuffle=True)\n",
    "# Load all the data to calculate the mean and standard deviation to scale and center the dataset.\n",
    "data = next(iter(trainloader))"
   ]
  },
  {
   "cell_type": "code",
   "execution_count": 70,
   "metadata": {},
   "outputs": [
    {
     "data": {
      "text/plain": [
       "tensor([0, 0, 0, 0, 0, 0, 1, 0, 0, 0])"
      ]
     },
     "execution_count": 70,
     "metadata": {},
     "output_type": "execute_result"
    }
   ],
   "source": [
    "nn.functional.one_hot(data[1][0], num_classes=10)"
   ]
  },
  {
   "cell_type": "code",
   "execution_count": 71,
   "metadata": {},
   "outputs": [],
   "source": [
    "mean = data[0].mean()\n",
    "stddev = data[0].std()"
   ]
  },
  {
   "cell_type": "code",
   "execution_count": 72,
   "metadata": {},
   "outputs": [],
   "source": [
    "# Standardize data on loading.\n",
    "transform = T.Compose([\n",
    "    T.ToTensor(),\n",
    "    T.Normalize(mean=mean, std=stddev)\n",
    "])\n",
    "trainset = MNIST(root=\"./data/pt_mnist\", train=True, download=True, transform=transform)\n",
    "testset = MNIST(root=\"./data/pt_mnist\", train=True, download=True, transform=transform)"
   ]
  },
  {
   "cell_type": "code",
   "execution_count": 31,
   "metadata": {},
   "outputs": [],
   "source": [
    "# A sequential model\n",
    "# 784 inputs\n",
    "# Two dense (fully connected) layers with 25 neurons and 10 neurons\n",
    "# Hidden Layer: Activation (tanh)\n",
    "# Output Layer: Activation (Logistic function)\n",
    "model = nn.Sequential(\n",
    "    nn.Flatten(),\n",
    "    nn.Linear(784, 25), \n",
    "    nn.Tanh(), \n",
    "    nn.Linear(25, 10),\n",
    "    nn.Sigmoid()\n",
    ")\n",
    "\n",
    "# Initialize weights\n",
    "for module in model.modules():\n",
    "    if isinstance(module, nn.Linear):\n",
    "        # Initialize layer weights\n",
    "        nn.init.uniform_(module.weight, a=-0.1, b=0.1)\n",
    "        # Initialize bias weights\n",
    "        nn.init.constant_(module.bias, 0.0)"
   ]
  },
  {
   "cell_type": "code",
   "execution_count": 32,
   "metadata": {},
   "outputs": [
    {
     "data": {
      "text/plain": [
       "Sequential(\n",
       "  (0): Flatten(start_dim=1, end_dim=-1)\n",
       "  (1): Linear(in_features=784, out_features=25, bias=True)\n",
       "  (2): Tanh()\n",
       "  (3): Linear(in_features=25, out_features=10, bias=True)\n",
       "  (4): Sigmoid()\n",
       ")"
      ]
     },
     "execution_count": 32,
     "metadata": {},
     "output_type": "execute_result"
    }
   ],
   "source": [
    "model"
   ]
  },
  {
   "cell_type": "code",
   "execution_count": 37,
   "metadata": {},
   "outputs": [
    {
     "name": "stdout",
     "output_type": "stream",
     "text": [
      "Epoch 1/20 loss: 0.0537 - acc: 0.6797 - val_loss: 0.0273 - val_acc: 0.8800\n",
      "Epoch 2/20 loss: 0.0217 - acc: 0.8952 - val_loss: 0.0180 - val_acc: 0.9081\n",
      "Epoch 3/20 loss: 0.0167 - acc: 0.9114 - val_loss: 0.0154 - val_acc: 0.9163\n",
      "Epoch 4/20 loss: 0.0147 - acc: 0.9186 - val_loss: 0.0139 - val_acc: 0.9229\n",
      "Epoch 5/20 loss: 0.0136 - acc: 0.9231 - val_loss: 0.0129 - val_acc: 0.9277\n",
      "Epoch 6/20 loss: 0.0129 - acc: 0.9263 - val_loss: 0.0122 - val_acc: 0.9303\n",
      "Epoch 7/20 loss: 0.0123 - acc: 0.9290 - val_loss: 0.0119 - val_acc: 0.9323\n",
      "Epoch 8/20 loss: 0.0118 - acc: 0.9319 - val_loss: 0.0114 - val_acc: 0.9348\n",
      "Epoch 9/20 loss: 0.0115 - acc: 0.9332 - val_loss: 0.0110 - val_acc: 0.9371\n",
      "Epoch 10/20 loss: 0.0111 - acc: 0.9353 - val_loss: 0.0108 - val_acc: 0.9383\n",
      "Epoch 11/20 loss: 0.0109 - acc: 0.9368 - val_loss: 0.0105 - val_acc: 0.9390\n",
      "Epoch 12/20 loss: 0.0107 - acc: 0.9374 - val_loss: 0.0104 - val_acc: 0.9401\n",
      "Epoch 13/20 loss: 0.0104 - acc: 0.9392 - val_loss: 0.0100 - val_acc: 0.9412\n",
      "Epoch 14/20 loss: 0.0102 - acc: 0.9401 - val_loss: 0.0100 - val_acc: 0.9426\n",
      "Epoch 15/20 loss: 0.0100 - acc: 0.9413 - val_loss: 0.0096 - val_acc: 0.9443\n",
      "Epoch 16/20 loss: 0.0099 - acc: 0.9423 - val_loss: 0.0096 - val_acc: 0.9453\n",
      "Epoch 17/20 loss: 0.0097 - acc: 0.9435 - val_loss: 0.0093 - val_acc: 0.9469\n",
      "Epoch 18/20 loss: 0.0096 - acc: 0.9443 - val_loss: 0.0093 - val_acc: 0.9473\n",
      "Epoch 19/20 loss: 0.0095 - acc: 0.9445 - val_loss: 0.0092 - val_acc: 0.9475\n",
      "Epoch 20/20 loss: 0.0094 - acc: 0.9449 - val_loss: 0.0091 - val_acc: 0.9477\n"
     ]
    }
   ],
   "source": [
    "### TRAINING\n",
    "optimizer = torch.optim.SGD(model.parameters(), lr=0.01)\n",
    "loss_function = nn.MSELoss()\n",
    "\n",
    "# Set to the supported device\n",
    "model.to(device)\n",
    "\n",
    "# Test and train loader\n",
    "trainloader = DataLoader(trainset, batch_size=BATCH_SIZE, shuffle=True)\n",
    "testloader = DataLoader(testset, batch_size=BATCH_SIZE, shuffle=True)\n",
    "\n",
    "# Train the model\n",
    "for i in range(EPOCHS):\n",
    "    model.train() # Training mode \n",
    "    train_loss = 0.0 \n",
    "    train_correct = 0\n",
    "    train_batches = 0\n",
    "    for inputs, targets in trainloader:\n",
    "        # Move to the same device as model.\n",
    "        one_hot_targets = nn.functional.one_hot(targets, num_classes=10).float()\n",
    "        inputs, targets, one_hot_targets = inputs.to(device), targets.to(device), one_hot_targets.to(device)\n",
    "        # Zero the parameter gradients.\n",
    "        optimizer.zero_grad()\n",
    "        # Forward pass\n",
    "        outputs = model(inputs)\n",
    "        loss = loss_function(outputs, one_hot_targets)\n",
    "        # Accumulate metrics \n",
    "        _, indices = torch.max(outputs.data, 1)\n",
    "        train_correct += (indices == targets).sum().item()\n",
    "        train_batches += 1\n",
    "        train_loss += loss.item()\n",
    "        # Backward pass and update\n",
    "        loss.backward()\n",
    "        optimizer.step()\n",
    "\n",
    "    train_loss = train_loss / train_batches\n",
    "    train_acc = train_correct / (train_batches * BATCH_SIZE)\n",
    "\n",
    "    # Evaluate the model\n",
    "    model.eval() # Set model to inference mode.\n",
    "    test_loss = 0.0\n",
    "    test_correct = 0\n",
    "    test_batches = 0\n",
    "    for inputs, targets in testloader:\n",
    "        one_hot_targets = nn.functional.one_hot(targets, num_classes=10)\n",
    "        inputs, targets, one_hot_targets = inputs.to(device), targets.to(device), one_hot_targets.to(device)\n",
    "        outputs = model(inputs)\n",
    "        loss = loss_function(outputs, one_hot_targets)\n",
    "        _, indices = torch.max(outputs, 1)\n",
    "        test_correct += (indices == targets).sum().item()\n",
    "        test_batches += 1\n",
    "        test_loss += loss.item()\n",
    "\n",
    "    test_loss = test_loss / test_batches \n",
    "    test_acc = test_correct / (test_batches * BATCH_SIZE)\n",
    "\n",
    "    print(f'Epoch {i+1}/{EPOCHS} loss: {train_loss:.4f} - acc: {train_acc:0.4f} - val_loss: {test_loss:.4f} - val_acc: {test_acc:0.4f}')"
   ]
  },
  {
   "cell_type": "code",
   "execution_count": 76,
   "metadata": {},
   "outputs": [
    {
     "data": {
      "text/plain": [
       "Parameter containing:\n",
       "tensor([0., 0., 0., 0., 0., 0., 0., 0., 0., 0.], requires_grad=True)"
      ]
     },
     "execution_count": 76,
     "metadata": {},
     "output_type": "execute_result"
    }
   ],
   "source": [
    "### Configuration 5 Example\n",
    "model = nn.Sequential(\n",
    "    nn.Flatten(), \n",
    "    nn.Linear(784, 25),\n",
    "    nn.ReLU(),\n",
    "    nn.Linear(25, 10)\n",
    ")\n",
    "\n",
    "# Retrieve layers for custom weight initialization\n",
    "layers = next(model.modules())\n",
    "hidden_layer = layers[1]\n",
    "output_layer = layers[3]\n",
    "\n",
    "# Kaiming (He) intialization\n",
    "nn.init.kaiming_normal_(hidden_layer.weight)\n",
    "nn.init.constant_(hidden_layer.bias, 0.0)\n",
    "\n",
    "# Xavier (Glorot) initialization\n",
    "nn.init.xavier_uniform_(output_layer.weight)\n",
    "nn.init.constant_(output_layer.bias, 0.0)"
   ]
  },
  {
   "cell_type": "code",
   "execution_count": 77,
   "metadata": {},
   "outputs": [
    {
     "name": "stdout",
     "output_type": "stream",
     "text": [
      "Epoch 1/20 loss: 0.3758 - acc: 0.8869 - val_loss: 0.2044 - val_acc: 0.9400\n",
      "Epoch 2/20 loss: 0.1923 - acc: 0.9433 - val_loss: 0.1714 - val_acc: 0.9490\n",
      "Epoch 3/20 loss: 0.1588 - acc: 0.9521 - val_loss: 0.1306 - val_acc: 0.9613\n",
      "Epoch 4/20 loss: 0.1384 - acc: 0.9584 - val_loss: 0.1215 - val_acc: 0.9640\n",
      "Epoch 5/20 loss: 0.1230 - acc: 0.9632 - val_loss: 0.1010 - val_acc: 0.9696\n",
      "Epoch 6/20 loss: 0.1124 - acc: 0.9666 - val_loss: 0.0949 - val_acc: 0.9711\n",
      "Epoch 7/20 loss: 0.1033 - acc: 0.9684 - val_loss: 0.0985 - val_acc: 0.9691\n",
      "Epoch 8/20 loss: 0.0967 - acc: 0.9704 - val_loss: 0.0951 - val_acc: 0.9699\n",
      "Epoch 9/20 loss: 0.0914 - acc: 0.9718 - val_loss: 0.0758 - val_acc: 0.9767\n",
      "Epoch 10/20 loss: 0.0855 - acc: 0.9730 - val_loss: 0.0751 - val_acc: 0.9769\n",
      "Epoch 11/20 loss: 0.0827 - acc: 0.9741 - val_loss: 0.0756 - val_acc: 0.9767\n",
      "Epoch 12/20 loss: 0.0793 - acc: 0.9753 - val_loss: 0.0736 - val_acc: 0.9762\n",
      "Epoch 13/20 loss: 0.0740 - acc: 0.9763 - val_loss: 0.0644 - val_acc: 0.9790\n",
      "Epoch 14/20 loss: 0.0727 - acc: 0.9774 - val_loss: 0.0600 - val_acc: 0.9809\n",
      "Epoch 15/20 loss: 0.0688 - acc: 0.9779 - val_loss: 0.0609 - val_acc: 0.9816\n",
      "Epoch 16/20 loss: 0.0668 - acc: 0.9786 - val_loss: 0.0591 - val_acc: 0.9815\n",
      "Epoch 17/20 loss: 0.0643 - acc: 0.9794 - val_loss: 0.0557 - val_acc: 0.9817\n",
      "Epoch 18/20 loss: 0.0620 - acc: 0.9800 - val_loss: 0.0539 - val_acc: 0.9822\n",
      "Epoch 19/20 loss: 0.0598 - acc: 0.9808 - val_loss: 0.0493 - val_acc: 0.9846\n",
      "Epoch 20/20 loss: 0.0563 - acc: 0.9816 - val_loss: 0.0502 - val_acc: 0.9840\n"
     ]
    }
   ],
   "source": [
    "### TRAINING (Configuration 5)\n",
    "optimizer = torch.optim.Adam(model.parameters())\n",
    "loss_function = nn.CrossEntropyLoss()\n",
    "\n",
    "# Set to the supported device\n",
    "model.to(device)\n",
    "\n",
    "# Test and train loader\n",
    "trainloader = DataLoader(trainset, batch_size=BATCH_SIZE, shuffle=True)\n",
    "testloader = DataLoader(testset, batch_size=BATCH_SIZE, shuffle=True)\n",
    "\n",
    "# Train the model\n",
    "for i in range(EPOCHS):\n",
    "    model.train() # Training mode \n",
    "    train_loss = 0.0 \n",
    "    train_correct = 0\n",
    "    train_batches = 0\n",
    "    for inputs, targets in trainloader:\n",
    "        # Move to the same device as model.\n",
    "        # one_hot_targets = nn.functional.one_hot(targets, num_classes=10).float()\n",
    "        # Cross entropy does not need one-hot targets in Pytorch.\n",
    "        inputs, targets = inputs.to(device), targets.to(device) # one_hot_targets.to(device)\n",
    "        # Zero the parameter gradients.\n",
    "        optimizer.zero_grad()\n",
    "        # Forward pass\n",
    "        outputs = model(inputs)\n",
    "        loss = loss_function(outputs, targets)\n",
    "        # Accumulate metrics \n",
    "        _, indices = torch.max(outputs.data, 1)\n",
    "        train_correct += (indices == targets).sum().item()\n",
    "        train_batches += 1\n",
    "        train_loss += loss.item()\n",
    "        # Backward pass and update\n",
    "        loss.backward()\n",
    "        optimizer.step()\n",
    "\n",
    "    train_loss = train_loss / train_batches\n",
    "    train_acc = train_correct / (train_batches * BATCH_SIZE)\n",
    "\n",
    "    # Evaluate the model\n",
    "    model.eval() # Set model to inference mode.\n",
    "    test_loss = 0.0\n",
    "    test_correct = 0\n",
    "    test_batches = 0\n",
    "    for inputs, targets in testloader:\n",
    "        # one_hot_targets = nn.functional.one_hot(targets, num_classes=10)\n",
    "        inputs, targets = inputs.to(device), targets.to(device)\n",
    "        outputs = model(inputs)\n",
    "        loss = loss_function(outputs, targets)\n",
    "        _, indices = torch.max(outputs, 1)\n",
    "        test_correct += (indices == targets).sum().item()\n",
    "        test_batches += 1\n",
    "        test_loss += loss.item()\n",
    "\n",
    "    test_loss = test_loss / test_batches \n",
    "    test_acc = test_correct / (test_batches * BATCH_SIZE)\n",
    "\n",
    "    print(f'Epoch {i+1}/{EPOCHS} loss: {train_loss:.4f} - acc: {train_acc:0.4f} - val_loss: {test_loss:.4f} - val_acc: {test_acc:0.4f}')"
   ]
  },
  {
   "cell_type": "code",
   "execution_count": 49,
   "metadata": {},
   "outputs": [
    {
     "data": {
      "text/plain": [
       "<matplotlib.legend.Legend at 0x21082ddbf70>"
      ]
     },
     "execution_count": 49,
     "metadata": {},
     "output_type": "execute_result"
    },
    {
     "data": {
      "image/png": "[encoded data removed]",
      "text/plain": [
       "<Figure size 576x360 with 1 Axes>"
      ]
     },
     "metadata": {
      "needs_background": "light"
     },
     "output_type": "display_data"
    }
   ],
   "source": [
    "### PLOT ACTIVATION FUNCTIONS\n",
    "import matplotlib.pyplot as plt\n",
    "tanh = lambda z: np.tanh(z)\n",
    "sigmoid = lambda z: np.exp(z) / (np.exp(z) + 1)\n",
    "z = np.linspace(-4, 4, num=9)\n",
    "plt.figure(figsize=(8,5))\n",
    "plt.plot(z, tanh(z), label=\"y = tanh(z)\")\n",
    "plt.plot(z, sigmoid(z), label=\"$y = e^z/(e^z+1)$\")\n",
    "plt.xlabel(\"z\")\n",
    "plt.ylabel(\"y\")\n",
    "plt.grid(True)\n",
    "plt.legend()"
   ]
  },
  {
   "cell_type": "code",
   "execution_count": 58,
   "metadata": {},
   "outputs": [],
   "source": [
    "### Cross-Entropy function\n",
    "def cross_entropy(y_pred, y_true):\n",
    "    if y_true == 1.0:\n",
    "        return -np.log(y_pred)\n",
    "    else:\n",
    "        return -np.log(1.0 - y_pred)\n",
    "\n",
    "cross_ent = lambda y,y_hat: -np.log(y_hat) if y==1.0 else -np.log(1 - y_hat)"
   ]
  },
  {
   "cell_type": "code",
   "execution_count": null,
   "metadata": {},
   "outputs": [],
   "source": []
  }
 ],
 "metadata": {
  "interpreter": {
   "hash": "b0bf3a60f070728456081e0416621110ebcfe2b6b1c96a4ddde8f44cf79d65c9"
  },
  "kernelspec": {
   "display_name": "Python 3.8.5 64-bit ('base': conda)",
   "name": "python3"
  },
  "language_info": {
   "codemirror_mode": {
    "name": "ipython",
    "version": 3
   },
   "file_extension": ".py",
   "mimetype": "text/x-python",
   "name": "python",
   "nbconvert_exporter": "python",
   "pygments_lexer": "ipython3",
   "version": "3.8.5"
  },
  "orig_nbformat": 4
 },
 "nbformat": 4,
 "nbformat_minor": 2
}
