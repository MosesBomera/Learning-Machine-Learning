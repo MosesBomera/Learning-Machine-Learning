{
  "nbformat": 4,
  "nbformat_minor": 0,
  "metadata": {
    "colab": {
      "name": "chapter_009.ipynb",
      "provenance": [],
      "collapsed_sections": []
    },
    "kernelspec": {
      "name": "python3",
      "display_name": "Python 3"
    },
    "language_info": {
      "name": "python"
    }
  },
  "cells": [
    {
      "cell_type": "markdown",
      "metadata": {
        "id": "1EYzxux1sNrx"
      },
      "source": [
        "# Predicting Time Sequences with Recurrent Neural Networks"
      ]
    },
    {
      "cell_type": "markdown",
      "metadata": {
        "id": "uFoZN0XEsezR"
      },
      "source": [
        "DATA PREPARATION"
      ]
    },
    {
      "cell_type": "code",
      "metadata": {
        "id": "bPdSUKBSj4W5"
      },
      "source": [
        "import pandas as pd"
      ],
      "execution_count": null,
      "outputs": []
    },
    {
      "cell_type": "markdown",
      "metadata": {
        "id": "l3vXWzyL1kKa"
      },
      "source": [
        "The dataset is based off of the [census.gov/retail/marts/www/timeseries.html](https://www.census.gov/retail/marts/www/timeseries.html)"
      ]
    },
    {
      "cell_type": "code",
      "metadata": {
        "id": "tCHLl7_bwFhX"
      },
      "source": [
        "# Read in the text file and convert it to a pandas dataframe.\n",
        "def read_text_file(\n",
        "    filename: \"The name of the text file to read in\"\n",
        "    ):\n",
        "  \"\"\"Reads in a text file and returns a list of the values\"\"\"\n",
        "  data = []\n",
        "  with open(filename, encoding='utf-8') as f:\n",
        "    # Skip the first line.\n",
        "    next(f)\n",
        "    for line in f:\n",
        "      data += line.split()[1:]\n",
        "  return [float(value) for value in data]"
      ],
      "execution_count": null,
      "outputs": []
    },
    {
      "cell_type": "code",
      "metadata": {
        "id": "3CC4ej6x0KhH"
      },
      "source": [
        "sales_data = read_text_file('historical_sales_data.txt')"
      ],
      "execution_count": null,
      "outputs": []
    },
    {
      "cell_type": "code",
      "metadata": {
        "id": "mJ5SFzm3w8Bo"
      },
      "source": [
        "# Convert list to pandas dataframe\n",
        "historical_sales = pd.DataFrame(sales_data,index=pd.date_range(start='31-01-1992', end='30-09-2021', freq='M'), columns=['sales'])\n",
        "historical_sales.plot()"
      ],
      "execution_count": null,
      "outputs": []
    },
    {
      "cell_type": "code",
      "metadata": {
        "id": "sAvqkNBcyoxC"
      },
      "source": [
        "# For learning purposes, the data will be truncated just before March 2020. (COVID-19)\n",
        "historical_sales[:'2020-02-28'].plot()"
      ],
      "execution_count": null,
      "outputs": []
    },
    {
      "cell_type": "code",
      "metadata": {
        "id": "74SfstYZ07Fs"
      },
      "source": [
        "# Remove COVID-19 era data and convert to numpy array.\n",
        "sales = historical_sales[:'2020-02-28'].values.reshape(-1)\n",
        "sales.shape"
      ],
      "execution_count": null,
      "outputs": []
    },
    {
      "cell_type": "markdown",
      "metadata": {
        "id": "YmfE-fAZ-fZn"
      },
      "source": [
        "TENSORFLOW"
      ]
    },
    {
      "cell_type": "code",
      "metadata": {
        "id": "oylO2dDz4EUi"
      },
      "source": [
        "import numpy as np\n",
        "import matplotlib.pyplot as plt\n",
        "import tensorflow as tf\n",
        "from tensorflow import keras\n",
        "from tensorflow.keras.models import Sequential\n",
        "from tensorflow.keras.layers import Dense\n",
        "from tensorflow.keras.layers import SimpleRNN\n",
        "import logging"
      ],
      "execution_count": null,
      "outputs": []
    },
    {
      "cell_type": "code",
      "metadata": {
        "id": "8XfW0O1_DT3e"
      },
      "source": [
        "EPOCHS = 100\n",
        "BATCH_SIZE = 16\n",
        "TRAIN_TEST_SPLIT = 0.8\n",
        "MIN = 12"
      ],
      "execution_count": null,
      "outputs": []
    },
    {
      "cell_type": "code",
      "metadata": {
        "id": "3bFJX1z4Dds8"
      },
      "source": [
        "# Data preparation\n",
        "months = len(sales)\n",
        "split = int(months * TRAIN_TEST_SPLIT)\n",
        "train_sales, test_sales = sales[:split], sales[split:]"
      ],
      "execution_count": null,
      "outputs": []
    },
    {
      "cell_type": "code",
      "metadata": {
        "id": "JAjdUTgaDwt9"
      },
      "source": [
        "# Naive model test that simply predicts what was observed in the past month.\n",
        "test_output = test_sales[MIN:]\n",
        "naive_prediction = test_sales[MIN-1:-1]"
      ],
      "execution_count": null,
      "outputs": []
    },
    {
      "cell_type": "code",
      "metadata": {
        "id": "dcGQta3dEGkq"
      },
      "source": [
        "x = range(len(test_output))\n",
        "plt.plot(x, test_output, 'g-', label='test_ouput')\n",
        "plt.plot(x, naive_prediction, 'm-', label='naive prediction')\n",
        "plt.title('Historical sales')\n",
        "plt.xlabel('months')\n",
        "plt.ylabel('Monthly historical sales')\n",
        "plt.legend()\n",
        "plt.show()"
      ],
      "execution_count": null,
      "outputs": []
    },
    {
      "cell_type": "code",
      "metadata": {
        "id": "_ML-4nj9Fmga"
      },
      "source": [
        "# Standardize train and test data.\n",
        "# Only train data used to compute mean and stddev.\n",
        "mean = np.mean(train_sales)\n",
        "stddev = np.std(train_sales)\n",
        "train_sales_std = (train_sales - mean) / stddev\n",
        "test_sales_std = (test_sales - mean) / stddev"
      ],
      "execution_count": null,
      "outputs": []
    },
    {
      "cell_type": "code",
      "metadata": {
        "id": "8eBD_wHmHVVS"
      },
      "source": [
        "# Convert the historical times series to a supervised learning dataset format, X -> y\n",
        "train_months = len(train_sales)\n",
        "train_X = np.zeros((train_months - MIN, train_months-1, 1))\n",
        "train_y = np.zeros((train_months-MIN, 1))\n",
        "for i in range(0, train_months-MIN):\n",
        "    train_X[i, -(i+MIN):, 0] = train_sales_std[0:i+MIN]\n",
        "    train_y[i, 0] = train_sales_std[i+MIN]\n",
        "\n",
        "# Create test examples.\n",
        "test_months = len(test_sales)\n",
        "test_X = np.zeros((test_months-MIN, test_months-1, 1))\n",
        "test_y = np.zeros((test_months-MIN, 1))\n",
        "for i in range(0, test_months-MIN):\n",
        "    test_X[i, -(i+MIN):, 0] = test_sales_std[0:i+MIN]\n",
        "    test_y[i, 0] = test_sales_std[i+MIN]"
      ],
      "execution_count": null,
      "outputs": []
    },
    {
      "cell_type": "code",
      "metadata": {
        "id": "kg_ktXspdVes"
      },
      "source": [
        "# The Model\n",
        "model = Sequential()\n",
        "model.add(SimpleRNN(128, activation='relu', input_shape=(None, 1)))\n",
        "model.add(Dense(1, activation='linear'))\n",
        "model.compile(loss='mean_squared_error', optimizer='adam', metrics=['mean_absolute_error'])\n",
        "model.summary()"
      ],
      "execution_count": null,
      "outputs": []
    },
    {
      "cell_type": "code",
      "metadata": {
        "id": "7RxehqtbkgA3"
      },
      "source": [
        "history = model.fit(train_X, train_y,\n",
        "                    validation_data\n",
        "                    = (test_X, test_y), epochs=EPOCHS,\n",
        "                    batch_size=BATCH_SIZE, verbose=2,\n",
        "                    shuffle=True)"
      ],
      "execution_count": null,
      "outputs": []
    },
    {
      "cell_type": "code",
      "metadata": {
        "id": "J5u7EfWesoyA"
      },
      "source": [
        "# Create naive prediction based on standardized data.\n",
        "test_output = test_sales_std[MIN:]\n",
        "naive_prediction = test_sales_std[MIN-1:-1]\n",
        "mean_squared_error = np.mean(np.square(naive_prediction - test_output))\n",
        "mean_abs_error = np.mean(np.abs(naive_prediction - test_output))\n",
        "print('naive test mse: ', mean_squared_error)\n",
        "print('naive test mean abs: ', mean_abs_error)"
      ],
      "execution_count": null,
      "outputs": []
    },
    {
      "cell_type": "code",
      "metadata": {
        "id": "bpab17YEuSkV"
      },
      "source": [
        "# Use trained model to predict the test data\n",
        "predicted_test = model.predict(test_X, len(test_X))\n",
        "predicted_test = np.reshape(predicted_test, (len(predicted_test)))\n",
        "predicted_test = predicted_test * stddev + mean\n",
        "# Plot test prediction.\n",
        "x = range(len(test_sales)-MIN)\n",
        "plt.plot(x, predicted_test, 'm-', label='predicted test_output')\n",
        "plt.plot(x, test_sales[-(len(test_sales)-MIN):], 'g-', label='actual test_output')\n",
        "plt.title('Historical sales')\n",
        "plt.xlabel('months')\n",
        "plt.ylabel('Predicted historical sales')\n",
        "plt.legend()\n",
        "plt.show()"
      ],
      "execution_count": null,
      "outputs": []
    },
    {
      "cell_type": "code",
      "metadata": {
        "id": "t9UHrJ_tu6pk"
      },
      "source": [
        ""
      ],
      "execution_count": null,
      "outputs": []
    },
    {
      "cell_type": "markdown",
      "metadata": {
        "id": "OILM-xQ0xN8Y"
      },
      "source": [
        "PYTORCH"
      ]
    },
    {
      "cell_type": "code",
      "metadata": {
        "id": "KQZ-7V3JxO5V"
      },
      "source": [
        "import torch\n",
        "import torch.nn as nn \n",
        "from torch.utils.data import TensorDataset, DataLoader\n",
        "import numpy as np\n",
        "from utils import train_model"
      ],
      "execution_count": null,
      "outputs": []
    },
    {
      "cell_type": "code",
      "metadata": {
        "id": "V8IpO6C4yDa_"
      },
      "source": [
        "# Set up device.\n",
        "device = torch.device(\"cuda:0\" if torch.cuda.is_available() else \"cpu\")"
      ],
      "execution_count": null,
      "outputs": []
    },
    {
      "cell_type": "code",
      "metadata": {
        "id": "qDuENFBF22HJ"
      },
      "source": [
        "# Create train examples.\n",
        "train_months = len(train_sales)\n",
        "train_X = np.zeros((train_months-MIN, train_months-1, 1), dtype=np.float32)\n",
        "train_y = np.zeros((train_months-MIN, 1), dtype=np.float32)\n",
        "for i in range(0, train_months-MIN):\n",
        "    train_X[i, -(i+MIN):, 0] = train_sales_std[0:i+MIN]\n",
        "    train_y[i, 0] = train_sales_std[i+MIN]\n",
        "\n",
        "# Create test examples.\n",
        "test_months = len(test_sales)\n",
        "test_X = np.zeros((test_months-MIN, test_months-1, 1), dtype=np.float32)\n",
        "test_y = np.zeros((test_months-MIN, 1), dtype=np.float32)\n",
        "for i in range(0, test_months-MIN):\n",
        "    test_X[i, -(i+MIN):, 0] = test_sales_std[0:i+MIN]\n",
        "    test_y[i, 0] = test_sales_std[i+MIN]\n",
        "\n",
        "# Create Dataset objects.\n",
        "trainset = TensorDataset(torch.from_numpy(train_X).clone(), torch.from_numpy(train_y))\n",
        "testset = TensorDataset(torch.from_numpy(test_X).clone(), torch.from_numpy(test_y))"
      ],
      "execution_count": null,
      "outputs": []
    },
    {
      "cell_type": "code",
      "metadata": {
        "id": "1GierV7syUeV"
      },
      "source": [
        "# Custom layer that retrieves only last time step from RNN output.\n",
        "class LastTimestep(nn.Module):\n",
        "    def forward(self, inputs):\n",
        "        return inputs[1][0]\n",
        "\n",
        "# Create RNN model\n",
        "model = nn.Sequential(\n",
        "    nn.RNN(1, 128, nonlinearity='relu', batch_first=True),\n",
        "    LastTimestep(),\n",
        "    nn.Linear(128, 1)\n",
        ")\n",
        "\n",
        "# Loss function and optimizer.\n",
        "optimizer = torch.optim.Adam(model.parameters())\n",
        "loss_function = nn.MSELoss()\n",
        "\n",
        "# Train model.\n",
        "train_model(model, device, EPOCHS, BATCH_SIZE, trainset, testset,\n",
        "            optimizer, loss_function, 'mae')"
      ],
      "execution_count": null,
      "outputs": []
    },
    {
      "cell_type": "code",
      "metadata": {
        "id": "PQbhSwdQ2vWd"
      },
      "source": [
        "\n",
        "# Create naive prediction based on standardized data.\n",
        "test_output = test_sales_std[MIN:]\n",
        "naive_prediction = test_sales_std[MIN-1:-1]\n",
        "mean_squared_error = np.mean(np.square(naive_prediction\n",
        "                                       - test_output))\n",
        "mean_abs_error = np.mean(np.abs(naive_prediction\n",
        "                                - test_output))\n",
        "print('naive test mse: ', mean_squared_error)\n",
        "print('naive test mean abs: ', mean_abs_error)"
      ],
      "execution_count": null,
      "outputs": []
    },
    {
      "cell_type": "code",
      "metadata": {
        "id": "DPeR-QGv46ES"
      },
      "source": [
        "# Use trained model to predict the test data\n",
        "inputs = torch.from_numpy(test_X)\n",
        "inputs = inputs.to(device)\n",
        "outputs = model(inputs)\n",
        "predicted_test = outputs.cpu().detach().numpy()\n",
        "\n",
        "# De-standardize output.\n",
        "predicted_test = np.reshape(predicted_test,\n",
        "                            (len(predicted_test)))\n",
        "predicted_test = predicted_test * stddev + mean\n",
        "\n",
        "# Plot test prediction.\n",
        "x = range(len(test_sales)-MIN)\n",
        "plt.plot(x, predicted_test, 'm-', label='predicted test_output')\n",
        "plt.plot(x, test_sales[-(len(test_sales)-MIN):], 'g-', label='actual test_output')\n",
        "plt.title('Historical sales')\n",
        "plt.xlabel('months')\n",
        "plt.ylabel('Predicted historical sales')\n",
        "plt.legend()\n",
        "plt.show()"
      ],
      "execution_count": null,
      "outputs": []
    },
    {
      "cell_type": "code",
      "metadata": {
        "id": "YCkoCTwT5Ddj"
      },
      "source": [
        ""
      ],
      "execution_count": null,
      "outputs": []
    }
  ]
}