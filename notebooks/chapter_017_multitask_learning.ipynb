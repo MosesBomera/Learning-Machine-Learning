{
  "nbformat": 4,
  "nbformat_minor": 0,
  "metadata": {
    "colab": {
      "name": "chapter_017 multitask_learning.ipynb",
      "provenance": []
    },
    "kernelspec": {
      "name": "python3",
      "display_name": "Python 3"
    },
    "language_info": {
      "name": "python"
    }
  },
  "cells": [
    {
      "cell_type": "markdown",
      "metadata": {
        "id": "ZZpmoKatMLT5"
      },
      "source": [
        "# Multitask Learning"
      ]
    },
    {
      "cell_type": "code",
      "metadata": {
        "id": "7ieEFIB8MEha"
      },
      "source": [
        "import tensorflow as tf\n",
        "from tensorflow import keras\n",
        "from tensorflow.keras.utils import to_categorical\n",
        "from tensorflow.keras.preprocessing.text import Tokenizer\n",
        "from tensorflow.keras.preprocessing.text import text_to_word_sequence\n",
        "from tensorflow.keras.preprocessing.sequence import pad_sequences\n",
        "from tensorflow.keras.layers import Input\n",
        "from tensorflow.keras.layers import Embedding\n",
        "from tensorflow.keras.layers import LSTM\n",
        "from tensorflow.keras.layers import Flatten\n",
        "from tensorflow.keras.layers import Concatenate\n",
        "from tensorflow.keras.layers import Dense\n",
        "from tensorflow.keras.models import Model\n",
        "import numpy as np\n",
        "import logging\n",
        "tf.get_logger().setLevel(logging.ERROR)"
      ],
      "execution_count": 2,
      "outputs": []
    },
    {
      "cell_type": "code",
      "metadata": {
        "colab": {
          "base_uri": "https://localhost:8080/"
        },
        "id": "yCTbWsooMhos",
        "outputId": "d5bb91b5-9aa2-40fe-e0de-9ade6ea45591"
      },
      "source": [
        "EPOCHS = 20\n",
        "MAX_WORDS = 8\n",
        "EMBEDDING_WIDTH = 4\n",
        "\n",
        "# Load training and test datasets.\n",
        "mnist = keras.datasets.mnist\n",
        "(train_images, train_labels), (test_images, test_labels) = mnist.load_data()\n",
        "\n",
        "# Standardize the data.\n",
        "mean = np.mean(train_images)\n",
        "stddev = np.std(train_images)\n",
        "train_images = (train_images - mean) / stddev\n",
        "test_images = (test_images - mean) / stddev"
      ],
      "execution_count": 3,
      "outputs": [
        {
          "output_type": "stream",
          "name": "stdout",
          "text": [
            "Downloading data from https://storage.googleapis.com/tensorflow/tf-keras-datasets/mnist.npz\n",
            "11493376/11490434 [==============================] - 0s 0us/step\n",
            "11501568/11490434 [==============================] - 0s 0us/step\n"
          ]
        }
      ]
    },
    {
      "cell_type": "code",
      "metadata": {
        "id": "rsA5_mIBNevD"
      },
      "source": [
        "# Function to create question and answer text.\n",
        "def create_question_answer(tokenizer, labels):\n",
        "    text = []\n",
        "    answers = np.zeros(len(labels))\n",
        "    for i, label in enumerate(labels):\n",
        "        question_num = i % 4\n",
        "        if question_num == 0:\n",
        "            text.append('lower half')\n",
        "            if label < 5:\n",
        "                answers[i] = 1.0\n",
        "        elif question_num == 1:\n",
        "            text.append('upper half')\n",
        "            if label >= 5:\n",
        "                answers[i] = 1.0\n",
        "        elif question_num == 2:\n",
        "            text.append('even number')\n",
        "            if label % 2 == 0:\n",
        "                answers[i] = 1.0\n",
        "        elif question_num == 3:\n",
        "            text.append('odd number')\n",
        "            if label % 2 == 1:\n",
        "                answers[i] = 1.0\n",
        "    text = tokenizer.texts_to_sequences(text)\n",
        "    text = pad_sequences(text)\n",
        "    return text, answers\n",
        "\n",
        "# Create second modality for training and test set.\n",
        "vocabulary = ['lower', 'upper', 'half', 'even', 'odd', 'number']\n",
        "tokenizer = Tokenizer(num_words=MAX_WORDS)\n",
        "tokenizer.fit_on_texts(vocabulary)\n",
        "train_text, train_answers = create_question_answer(tokenizer,\n",
        "                                                   train_labels)\n",
        "test_text, test_answers = create_question_answer(tokenizer,\n",
        "                                                 test_labels)"
      ],
      "execution_count": 6,
      "outputs": []
    },
    {
      "cell_type": "code",
      "metadata": {
        "colab": {
          "base_uri": "https://localhost:8080/"
        },
        "id": "zfTh3JpzNpNZ",
        "outputId": "34d4df46-c0c0-4b01-c35f-c8c1af65b118"
      },
      "source": [
        "# Create model with functional API.\n",
        "image_input = Input(shape=(28, 28))\n",
        "text_input = Input(shape=(2, ))\n",
        "\n",
        "# Declare layers.\n",
        "embedding_layer = Embedding(output_dim=EMBEDDING_WIDTH,\n",
        "                            input_dim = MAX_WORDS)\n",
        "lstm_layer = LSTM(8)\n",
        "flatten_layer = Flatten()\n",
        "concat_layer = Concatenate()\n",
        "dense_layer = Dense(25,activation='relu')\n",
        "class_output_layer = Dense(10, activation='softmax')\n",
        "answer_output_layer = Dense(1, activation='sigmoid')\n",
        "\n",
        "# Connect layers.\n",
        "embedding_output = embedding_layer(text_input)\n",
        "lstm_output = lstm_layer(embedding_output)\n",
        "flatten_output = flatten_layer(image_input)\n",
        "concat_output = concat_layer([lstm_output, flatten_output])\n",
        "dense_output = dense_layer(concat_output)\n",
        "class_outputs = class_output_layer(dense_output)\n",
        "answer_outputs = answer_output_layer(dense_output)\n",
        "\n",
        "# Build and train model.\n",
        "model = Model([image_input, text_input], [class_outputs,\n",
        "                                          answer_outputs])\n",
        "model.compile(loss=['sparse_categorical_crossentropy',\n",
        "                    'binary_crossentropy'], optimizer='adam',\n",
        "                    metrics=['accuracy'],\n",
        "                    loss_weights = [0.5, 0.5])\n",
        "model.summary()\n",
        "history = model.fit([train_images, train_text],\n",
        "                    [train_labels, train_answers],\n",
        "                    validation_data=([test_images, test_text],\n",
        "                    [test_labels, test_answers]), epochs=EPOCHS,\n",
        "                    batch_size=64, verbose=2, shuffle=True)"
      ],
      "execution_count": 7,
      "outputs": [
        {
          "output_type": "stream",
          "name": "stdout",
          "text": [
            "Model: \"model_1\"\n",
            "__________________________________________________________________________________________________\n",
            " Layer (type)                   Output Shape         Param #     Connected to                     \n",
            "==================================================================================================\n",
            " input_4 (InputLayer)           [(None, 2)]          0           []                               \n",
            "                                                                                                  \n",
            " embedding_1 (Embedding)        (None, 2, 4)         32          ['input_4[0][0]']                \n",
            "                                                                                                  \n",
            " input_3 (InputLayer)           [(None, 28, 28)]     0           []                               \n",
            "                                                                                                  \n",
            " lstm_1 (LSTM)                  (None, 8)            416         ['embedding_1[0][0]']            \n",
            "                                                                                                  \n",
            " flatten_1 (Flatten)            (None, 784)          0           ['input_3[0][0]']                \n",
            "                                                                                                  \n",
            " concatenate_1 (Concatenate)    (None, 792)          0           ['lstm_1[0][0]',                 \n",
            "                                                                  'flatten_1[0][0]']              \n",
            "                                                                                                  \n",
            " dense_3 (Dense)                (None, 25)           19825       ['concatenate_1[0][0]']          \n",
            "                                                                                                  \n",
            " dense_4 (Dense)                (None, 10)           260         ['dense_3[0][0]']                \n",
            "                                                                                                  \n",
            " dense_5 (Dense)                (None, 1)            26          ['dense_3[0][0]']                \n",
            "                                                                                                  \n",
            "==================================================================================================\n",
            "Total params: 20,559\n",
            "Trainable params: 20,559\n",
            "Non-trainable params: 0\n",
            "__________________________________________________________________________________________________\n",
            "Epoch 1/20\n",
            "938/938 - 7s - loss: 0.5282 - dense_4_loss: 0.4524 - dense_5_loss: 0.6040 - dense_4_accuracy: 0.8639 - dense_5_accuracy: 0.6549 - val_loss: 0.4074 - val_dense_4_loss: 0.2961 - val_dense_5_loss: 0.5186 - val_dense_4_accuracy: 0.9110 - val_dense_5_accuracy: 0.7416 - 7s/epoch - 7ms/step\n",
            "Epoch 2/20\n",
            "938/938 - 3s - loss: 0.3361 - dense_4_loss: 0.2565 - dense_5_loss: 0.4157 - dense_4_accuracy: 0.9257 - dense_5_accuracy: 0.7973 - val_loss: 0.3339 - val_dense_4_loss: 0.2404 - val_dense_5_loss: 0.4275 - val_dense_4_accuracy: 0.9298 - val_dense_5_accuracy: 0.7919 - 3s/epoch - 4ms/step\n",
            "Epoch 3/20\n",
            "938/938 - 3s - loss: 0.2838 - dense_4_loss: 0.2247 - dense_5_loss: 0.3430 - dense_4_accuracy: 0.9349 - dense_5_accuracy: 0.8398 - val_loss: 0.2767 - val_dense_4_loss: 0.2257 - val_dense_5_loss: 0.3277 - val_dense_4_accuracy: 0.9327 - val_dense_5_accuracy: 0.8739 - 3s/epoch - 4ms/step\n",
            "Epoch 4/20\n",
            "938/938 - 3s - loss: 0.2225 - dense_4_loss: 0.2068 - dense_5_loss: 0.2381 - dense_4_accuracy: 0.9385 - dense_5_accuracy: 0.9139 - val_loss: 0.2512 - val_dense_4_loss: 0.2216 - val_dense_5_loss: 0.2809 - val_dense_4_accuracy: 0.9337 - val_dense_5_accuracy: 0.8939 - 3s/epoch - 4ms/step\n",
            "Epoch 5/20\n",
            "938/938 - 3s - loss: 0.1968 - dense_4_loss: 0.1911 - dense_5_loss: 0.2024 - dense_4_accuracy: 0.9435 - dense_5_accuracy: 0.9253 - val_loss: 0.2367 - val_dense_4_loss: 0.2247 - val_dense_5_loss: 0.2487 - val_dense_4_accuracy: 0.9307 - val_dense_5_accuracy: 0.9063 - 3s/epoch - 4ms/step\n",
            "Epoch 6/20\n",
            "938/938 - 3s - loss: 0.1809 - dense_4_loss: 0.1762 - dense_5_loss: 0.1855 - dense_4_accuracy: 0.9484 - dense_5_accuracy: 0.9320 - val_loss: 0.2174 - val_dense_4_loss: 0.1962 - val_dense_5_loss: 0.2386 - val_dense_4_accuracy: 0.9419 - val_dense_5_accuracy: 0.9127 - 3s/epoch - 4ms/step\n",
            "Epoch 7/20\n",
            "938/938 - 3s - loss: 0.1708 - dense_4_loss: 0.1665 - dense_5_loss: 0.1750 - dense_4_accuracy: 0.9502 - dense_5_accuracy: 0.9367 - val_loss: 0.2187 - val_dense_4_loss: 0.1931 - val_dense_5_loss: 0.2443 - val_dense_4_accuracy: 0.9427 - val_dense_5_accuracy: 0.9103 - 3s/epoch - 4ms/step\n",
            "Epoch 8/20\n",
            "938/938 - 3s - loss: 0.1646 - dense_4_loss: 0.1591 - dense_5_loss: 0.1700 - dense_4_accuracy: 0.9530 - dense_5_accuracy: 0.9380 - val_loss: 0.2228 - val_dense_4_loss: 0.2051 - val_dense_5_loss: 0.2404 - val_dense_4_accuracy: 0.9421 - val_dense_5_accuracy: 0.9134 - 3s/epoch - 4ms/step\n",
            "Epoch 9/20\n",
            "938/938 - 3s - loss: 0.1574 - dense_4_loss: 0.1533 - dense_5_loss: 0.1615 - dense_4_accuracy: 0.9540 - dense_5_accuracy: 0.9421 - val_loss: 0.2127 - val_dense_4_loss: 0.1884 - val_dense_5_loss: 0.2371 - val_dense_4_accuracy: 0.9469 - val_dense_5_accuracy: 0.9151 - 3s/epoch - 4ms/step\n",
            "Epoch 10/20\n",
            "938/938 - 3s - loss: 0.1534 - dense_4_loss: 0.1495 - dense_5_loss: 0.1573 - dense_4_accuracy: 0.9542 - dense_5_accuracy: 0.9429 - val_loss: 0.2139 - val_dense_4_loss: 0.1872 - val_dense_5_loss: 0.2406 - val_dense_4_accuracy: 0.9448 - val_dense_5_accuracy: 0.9142 - 3s/epoch - 4ms/step\n",
            "Epoch 11/20\n",
            "938/938 - 3s - loss: 0.1497 - dense_4_loss: 0.1458 - dense_5_loss: 0.1536 - dense_4_accuracy: 0.9556 - dense_5_accuracy: 0.9438 - val_loss: 0.2061 - val_dense_4_loss: 0.1899 - val_dense_5_loss: 0.2223 - val_dense_4_accuracy: 0.9465 - val_dense_5_accuracy: 0.9233 - 3s/epoch - 4ms/step\n",
            "Epoch 12/20\n",
            "938/938 - 3s - loss: 0.1460 - dense_4_loss: 0.1425 - dense_5_loss: 0.1494 - dense_4_accuracy: 0.9561 - dense_5_accuracy: 0.9457 - val_loss: 0.2066 - val_dense_4_loss: 0.1861 - val_dense_5_loss: 0.2270 - val_dense_4_accuracy: 0.9463 - val_dense_5_accuracy: 0.9221 - 3s/epoch - 4ms/step\n",
            "Epoch 13/20\n",
            "938/938 - 3s - loss: 0.1423 - dense_4_loss: 0.1390 - dense_5_loss: 0.1455 - dense_4_accuracy: 0.9579 - dense_5_accuracy: 0.9471 - val_loss: 0.2055 - val_dense_4_loss: 0.1888 - val_dense_5_loss: 0.2222 - val_dense_4_accuracy: 0.9487 - val_dense_5_accuracy: 0.9233 - 3s/epoch - 4ms/step\n",
            "Epoch 14/20\n",
            "938/938 - 3s - loss: 0.1392 - dense_4_loss: 0.1375 - dense_5_loss: 0.1409 - dense_4_accuracy: 0.9580 - dense_5_accuracy: 0.9495 - val_loss: 0.2050 - val_dense_4_loss: 0.1886 - val_dense_5_loss: 0.2215 - val_dense_4_accuracy: 0.9463 - val_dense_5_accuracy: 0.9230 - 3s/epoch - 4ms/step\n",
            "Epoch 15/20\n",
            "938/938 - 3s - loss: 0.1365 - dense_4_loss: 0.1322 - dense_5_loss: 0.1407 - dense_4_accuracy: 0.9594 - dense_5_accuracy: 0.9488 - val_loss: 0.2105 - val_dense_4_loss: 0.1849 - val_dense_5_loss: 0.2360 - val_dense_4_accuracy: 0.9475 - val_dense_5_accuracy: 0.9214 - 3s/epoch - 4ms/step\n",
            "Epoch 16/20\n",
            "938/938 - 3s - loss: 0.1353 - dense_4_loss: 0.1311 - dense_5_loss: 0.1395 - dense_4_accuracy: 0.9597 - dense_5_accuracy: 0.9495 - val_loss: 0.2114 - val_dense_4_loss: 0.1887 - val_dense_5_loss: 0.2341 - val_dense_4_accuracy: 0.9466 - val_dense_5_accuracy: 0.9220 - 3s/epoch - 3ms/step\n",
            "Epoch 17/20\n",
            "938/938 - 3s - loss: 0.1310 - dense_4_loss: 0.1279 - dense_5_loss: 0.1342 - dense_4_accuracy: 0.9605 - dense_5_accuracy: 0.9512 - val_loss: 0.2212 - val_dense_4_loss: 0.1934 - val_dense_5_loss: 0.2490 - val_dense_4_accuracy: 0.9437 - val_dense_5_accuracy: 0.9150 - 3s/epoch - 4ms/step\n",
            "Epoch 18/20\n",
            "938/938 - 3s - loss: 0.1307 - dense_4_loss: 0.1268 - dense_5_loss: 0.1345 - dense_4_accuracy: 0.9610 - dense_5_accuracy: 0.9503 - val_loss: 0.2110 - val_dense_4_loss: 0.1888 - val_dense_5_loss: 0.2331 - val_dense_4_accuracy: 0.9444 - val_dense_5_accuracy: 0.9203 - 3s/epoch - 4ms/step\n",
            "Epoch 19/20\n",
            "938/938 - 3s - loss: 0.1290 - dense_4_loss: 0.1246 - dense_5_loss: 0.1333 - dense_4_accuracy: 0.9612 - dense_5_accuracy: 0.9513 - val_loss: 0.2085 - val_dense_4_loss: 0.1926 - val_dense_5_loss: 0.2244 - val_dense_4_accuracy: 0.9456 - val_dense_5_accuracy: 0.9254 - 3s/epoch - 4ms/step\n",
            "Epoch 20/20\n",
            "938/938 - 3s - loss: 0.1265 - dense_4_loss: 0.1229 - dense_5_loss: 0.1301 - dense_4_accuracy: 0.9616 - dense_5_accuracy: 0.9535 - val_loss: 0.2117 - val_dense_4_loss: 0.1931 - val_dense_5_loss: 0.2303 - val_dense_4_accuracy: 0.9460 - val_dense_5_accuracy: 0.9236 - 3s/epoch - 4ms/step\n"
          ]
        }
      ]
    },
    {
      "cell_type": "code",
      "metadata": {
        "id": "VyHQhumMN68n"
      },
      "source": [
        ""
      ],
      "execution_count": null,
      "outputs": []
    }
  ]
}